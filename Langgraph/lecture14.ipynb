{
 "cells": [
  {
   "cell_type": "markdown",
   "metadata": {},
   "source": [
    "# Lecture 14: Trimming and Filtering Messages in LangGraph"
   ]
  },
  {
   "cell_type": "markdown",
   "metadata": {},
   "source": [
    "### Setup the LLM"
   ]
  },
  {
   "cell_type": "code",
   "execution_count": 2,
   "metadata": {},
   "outputs": [],
   "source": [
    "from dotenv import load_dotenv\n",
    "import os\n",
    "\n",
    "load_dotenv()  # Load environment variables from .env file\n",
    "\n",
    "# Corrected way to retrieve the API key\n",
    "api_key = os.getenv(\"GOOGLE_API_KEY\")\n",
    "\n",
    "if not api_key:\n",
    "    raise ValueError(\"GOOGLE_API_KEY not found. Make sure it's set in the .env file.\")\n",
    "\n",
    "os.environ[\"GOOGLE_API_KEY\"] = api_key\n",
    "\n",
    "from langchain_google_genai import ChatGoogleGenerativeAI\n",
    "\n",
    "llm = ChatGoogleGenerativeAI(model=\"gemini-1.5-flash-latest\")"
   ]
  },
  {
   "cell_type": "code",
   "execution_count": 3,
   "metadata": {},
   "outputs": [
    {
     "name": "stdout",
     "output_type": "stream",
     "text": [
      "There's no single, universally accepted answer to the meaning of life.  The question itself is philosophical and has been pondered by humans for millennia.  Different individuals and cultures find meaning in various things, including:\n",
      "\n",
      "* **Relationships:**  Love, family, friendship, and community provide a sense of belonging and purpose for many.\n",
      "* **Contribution:** Making a positive impact on the world, whether through work, volunteering, or creative expression, can be deeply fulfilling.\n",
      "* **Growth and learning:**  Continuously expanding one's knowledge, skills, and understanding can give life a sense of direction and achievement.\n",
      "* **Spiritual or religious beliefs:**  Faith and connection to a higher power provide meaning and guidance for many people.\n",
      "* **Experiences:**  Travel, adventure, and pursuing passions can create lasting memories and a sense of fulfillment.\n",
      "* **Self-discovery:**  Understanding oneself, one's values, and one's place in the world is a lifelong journey that can be inherently meaningful.\n",
      "\n",
      "Ultimately, the meaning of life is subjective and personal.  It's not something to be found, but rather something to be created and defined by each individual based on their own values, experiences, and beliefs.  The search for meaning itself can be a significant part of a fulfilling life.\n"
     ]
    }
   ],
   "source": [
    "print(llm.invoke(\"What is the meaning of life?\").content)"
   ]
  },
  {
   "cell_type": "code",
   "execution_count": 4,
   "metadata": {},
   "outputs": [
    {
     "name": "stdout",
     "output_type": "stream",
     "text": [
      "==================================\u001b[1m Ai Message \u001b[0m==================================\n",
      "Name: Bot\n",
      "\n",
      "So you like AI?\n",
      "================================\u001b[1m Human Message \u001b[0m=================================\n",
      "Name: Asif\n",
      "\n",
      "Yes, I do, but how to learn more about it? please give me a roadmap.\n"
     ]
    }
   ],
   "source": [
    "from pprint import pprint\n",
    "from langchain_core.messages import HumanMessage, AIMessage\n",
    "\n",
    "messages = [AIMessage(f\"So you like AI?\", name=\"Bot\")]\n",
    "messages.append(HumanMessage(f\"Yes, I do, but how to learn more about it? please give me a roadmap.\", name=\"Asif\"))\n",
    "\n",
    "for m in messages:\n",
    "    m.pretty_print()"
   ]
  },
  {
   "cell_type": "code",
   "execution_count": 5,
   "metadata": {},
   "outputs": [
    {
     "name": "stdout",
     "output_type": "stream",
     "text": [
      "(\"Learning about AI is a journey, not a sprint.  Here's a roadmap, broken down \"\n",
      " 'into stages, catering to different learning styles and goals:\\n'\n",
      " '\\n'\n",
      " '**Stage 1: Foundational Knowledge (1-3 months)**\\n'\n",
      " '\\n'\n",
      " '* **Mathematics:**  A solid foundation in math is crucial. Focus on:\\n'\n",
      " '    * **Linear Algebra:** Vectors, matrices, operations, eigenvalues, '\n",
      " 'eigenvectors.  Khan Academy, 3Blue1Brown (YouTube), and MIT OpenCourseware '\n",
      " 'are excellent resources.\\n'\n",
      " '    * **Calculus:** Derivatives, integrals, gradients.  Again, Khan Academy, '\n",
      " '3Blue1Brown, and MIT OpenCourseware are great.\\n'\n",
      " \"    * **Probability and Statistics:** Probability distributions, Bayes' \"\n",
      " 'theorem, hypothesis testing, statistical significance.  Khan Academy, edX, '\n",
      " 'and Coursera offer relevant courses.\\n'\n",
      " '* **Programming:**  Python is the dominant language in AI. Learn the '\n",
      " 'basics:\\n'\n",
      " '    * **Data structures:** Lists, dictionaries, sets, tuples.\\n'\n",
      " '    * **Control flow:** Loops, conditional statements.\\n'\n",
      " '    * **Object-oriented programming (OOP):** Classes, objects, inheritance.\\n'\n",
      " '    * **Libraries:** NumPy (numerical computing), Pandas (data '\n",
      " 'manipulation), Matplotlib (visualization).  Many online tutorials and '\n",
      " 'courses are available.\\n'\n",
      " '* **Introduction to AI Concepts:**\\n'\n",
      " '    * **What is AI?** Understand the different types of AI (narrow/weak AI, '\n",
      " 'general/strong AI), its history, and ethical implications.  Read articles '\n",
      " \"and introductory books.  Stanford's online courses are a good starting \"\n",
      " 'point.\\n'\n",
      " '\\n'\n",
      " '**Stage 2: Core AI Concepts (3-6 months)**\\n'\n",
      " '\\n'\n",
      " '* **Machine Learning (ML):**\\n'\n",
      " '    * **Supervised learning:** Regression (linear, logistic), classification '\n",
      " '(decision trees, support vector machines, naive Bayes).\\n'\n",
      " '    * **Unsupervised learning:** Clustering (k-means, hierarchical), '\n",
      " 'dimensionality reduction (PCA).\\n'\n",
      " '    * **Reinforcement learning:**  This is more advanced, but understanding '\n",
      " 'the basic principles is important.\\n'\n",
      " '* **Deep Learning (DL):**\\n'\n",
      " '    * **Neural networks:**  Understand the architecture of neural networks '\n",
      " '(perceptrons, multi-layer perceptrons), backpropagation, activation '\n",
      " 'functions.\\n'\n",
      " '    * **Convolutional Neural Networks (CNNs):** For image processing.\\n'\n",
      " '    * **Recurrent Neural Networks (RNNs):** For sequential data (text, time '\n",
      " 'series).\\n'\n",
      " '* **Practical Projects:** Start with small projects using readily available '\n",
      " 'datasets (e.g., MNIST for image classification, Iris dataset for '\n",
      " 'classification).  Use libraries like scikit-learn (for ML) and '\n",
      " 'TensorFlow/PyTorch (for DL).\\n'\n",
      " '\\n'\n",
      " '**Stage 3: Specialization and Advanced Topics (6+ months)**\\n'\n",
      " '\\n'\n",
      " '* **Choose a specialization:** Natural Language Processing (NLP), Computer '\n",
      " 'Vision, Robotics, etc.\\n'\n",
      " '* **Advanced ML/DL techniques:**  Explore more advanced architectures, '\n",
      " 'optimization algorithms, and regularization techniques.\\n'\n",
      " '* **Big Data and Cloud Computing:** Learn how to handle large datasets using '\n",
      " 'tools like Spark and cloud platforms like AWS, Google Cloud, or Azure.\\n'\n",
      " '* **Research Papers:** Start reading and understanding research papers in '\n",
      " 'your chosen area.\\n'\n",
      " '* **Contribute to Open Source:** Contribute to open-source projects to gain '\n",
      " 'practical experience and collaborate with other AI enthusiasts.\\n'\n",
      " '\\n'\n",
      " '**Resources:**\\n'\n",
      " '\\n'\n",
      " '* **Online Courses:** Coursera, edX, Udacity, fast.ai, Stanford Online, MIT '\n",
      " 'OpenCourseware\\n'\n",
      " '* **Books:** \"Deep Learning\" by Goodfellow et al., \"Hands-On Machine '\n",
      " 'Learning with Scikit-Learn, Keras & TensorFlow\" by Aurélien Géron\\n'\n",
      " '* **YouTube Channels:** 3Blue1Brown, Two Minute Papers, Sentdex\\n'\n",
      " '* **Blogs and Articles:** Towards Data Science, Analytics Vidhya\\n'\n",
      " '\\n'\n",
      " '\\n'\n",
      " '**Tips for Success:**\\n'\n",
      " '\\n'\n",
      " '* **Consistency is key:** Dedicate time regularly to learning.\\n'\n",
      " '* **Practice, practice, practice:**  The best way to learn is by doing.\\n'\n",
      " '* **Join communities:** Engage with other learners and experts through '\n",
      " 'online forums and communities.\\n'\n",
      " \"* **Don't be afraid to ask for help:**  There are many resources and people \"\n",
      " 'willing to assist you.\\n'\n",
      " \"* **Start small and build up:** Don't try to learn everything at once. Focus \"\n",
      " 'on one concept at a time and gradually build your knowledge.\\n'\n",
      " '\\n'\n",
      " '\\n'\n",
      " 'This roadmap is a guideline.  Adapt it to your interests and pace.  Remember '\n",
      " 'that the field of AI is constantly evolving, so continuous learning is '\n",
      " 'essential.  Good luck!')\n"
     ]
    }
   ],
   "source": [
    "response = llm.invoke(messages)\n",
    "pprint(response.content)"
   ]
  },
  {
   "cell_type": "code",
   "execution_count": 7,
   "metadata": {},
   "outputs": [
    {
     "data": {
      "image/png": "[encoded data removed]",
      "text/plain": [
       "<IPython.core.display.Image object>"
      ]
     },
     "metadata": {},
     "output_type": "display_data"
    }
   ],
   "source": [
    "from IPython.display import display, Image\n",
    "from langgraph.graph import START, StateGraph, END\n",
    "from langgraph.graph import MessagesState\n",
    "\n",
    "# Nodes are units of work that can be executed in the graph. They are typically regular python functions.\n",
    "\n",
    "# Always start by defining a StateGraph. A StateGraph object defines the structure of our chatbot as a \"state machine\". We'll add nodes to represent the llm and functions our chatbot can call and edges to specify how the bot should transition between these functions.\n",
    "def chat_model_node(state: MessagesState):\n",
    "    return {\"messages\": [llm.invoke(state[\"messages\"])]}\n",
    "\n",
    "\n",
    "# Edge is connection between nodes\n",
    "# Build graph\n",
    "builder = StateGraph(MessagesState)\n",
    "builder.add_node(\"chat_model\", chat_model_node)\n",
    "builder.add_edge(START, \"chat_model\")\n",
    "builder.add_edge(\"chat_model\", END)\n",
    "\n",
    "graph = builder.compile()\n",
    "\n",
    "display(Image(graph.get_graph(xray=True).draw_mermaid_png()))"
   ]
  },
  {
   "cell_type": "code",
   "execution_count": 8,
   "metadata": {},
   "outputs": [
    {
     "name": "stdout",
     "output_type": "stream",
     "text": [
      "==================================\u001b[1m Ai Message \u001b[0m==================================\n",
      "Name: Bot\n",
      "\n",
      "So you like AI?\n",
      "================================\u001b[1m Human Message \u001b[0m=================================\n",
      "Name: Asif\n",
      "\n",
      "Yes, I do, but how to learn more about it? please give me a roadmap.\n",
      "==================================\u001b[1m Ai Message \u001b[0m==================================\n",
      "\n",
      "Learning about AI is a vast undertaking, so a roadmap depends on your background and goals.  Are you aiming for a casual understanding, a professional career, or something in between?  Let's assume a path toward a solid understanding, adaptable to different levels.\n",
      "\n",
      "**Phase 1: Foundational Knowledge (1-3 months)**\n",
      "\n",
      "* **Mathematics:**\n",
      "    * **Linear Algebra:** Vectors, matrices, operations, eigenvalues/eigenvectors.  Khan Academy, 3Blue1Brown (YouTube) are excellent resources.  Crucial for understanding neural networks.\n",
      "    * **Calculus:** Derivatives, gradients, integrals.  Again, Khan Academy and 3Blue1Brown are great.  Necessary for optimization algorithms.\n",
      "    * **Probability and Statistics:** Probability distributions, Bayes' theorem, hypothesis testing.  Khan Academy, edX, Coursera offer courses.  Essential for understanding machine learning models and evaluating their performance.\n",
      "* **Programming:**\n",
      "    * **Python:**  The dominant language in AI.  Learn the basics: data structures, control flow, functions, object-oriented programming.  Codecademy, freeCodeCamp, and DataCamp are good starting points.  Practice consistently!\n",
      "    * **Libraries:**  Familiarize yourself with NumPy (numerical computation), Pandas (data manipulation), and Matplotlib (visualization).\n",
      "\n",
      "**Phase 2: Core AI Concepts (3-6 months)**\n",
      "\n",
      "* **Machine Learning:**\n",
      "    * **Supervised Learning:** Regression (linear, logistic), classification (decision trees, support vector machines, naive Bayes).  Andrew Ng's Machine Learning course on Coursera is a classic.\n",
      "    * **Unsupervised Learning:** Clustering (k-means, hierarchical), dimensionality reduction (PCA).\n",
      "    * **Model Evaluation:** Metrics like accuracy, precision, recall, F1-score, AUC-ROC. Understand bias-variance tradeoff, overfitting, and underfitting.\n",
      "* **Deep Learning:**\n",
      "    * **Neural Networks:** Understand the basic architecture (input, hidden layers, output), activation functions (sigmoid, ReLU), backpropagation.  Deeplearning.ai (Andrew Ng on Coursera) offers excellent deep learning specialization.\n",
      "    * **Convolutional Neural Networks (CNNs):** For image processing.\n",
      "    * **Recurrent Neural Networks (RNNs):** For sequential data (text, time series).\n",
      "    * **Transformers:**  The architecture behind large language models (LLMs).\n",
      "\n",
      "**Phase 3: Specialization and Advanced Topics (Ongoing)**\n",
      "\n",
      "At this point, you'll want to specialize.  Consider these areas:\n",
      "\n",
      "* **Natural Language Processing (NLP):**  Working with text data.  Explore topics like tokenization, word embeddings (Word2Vec, GloVe, BERT), language models.\n",
      "* **Computer Vision:**  Working with image and video data.  Learn about object detection, image segmentation, image generation.\n",
      "* **Reinforcement Learning:**  Training agents to make decisions in an environment.\n",
      "* **Robotics:**  Combining AI with physical robots.\n",
      "* **Explainable AI (XAI):**  Understanding and interpreting the decisions made by AI models.\n",
      "* **AI Ethics:**  Crucial for responsible AI development and deployment.\n",
      "\n",
      "\n",
      "**Resources:**\n",
      "\n",
      "* **Online Courses:** Coursera, edX, Udacity, fast.ai, Deeplearning.ai\n",
      "* **Books:**  \"Hands-On Machine Learning with Scikit-Learn, Keras & TensorFlow\" by Aurélien Géron is a popular choice.  Many others exist depending on your specialization.\n",
      "* **YouTube Channels:** 3Blue1Brown, Two Minute Papers, Lex Fridman Podcast\n",
      "* **Research Papers:**  arXiv.org is a great source for the latest research.\n",
      "\n",
      "\n",
      "**Tips for Success:**\n",
      "\n",
      "* **Start with the basics:** Don't jump into advanced topics without a solid foundation.\n",
      "* **Practice consistently:**  The best way to learn is by doing.  Work on projects, participate in Kaggle competitions.\n",
      "* **Join a community:**  Connect with other AI enthusiasts online or in person.\n",
      "* **Be patient:**  Learning AI takes time and effort.  Don't get discouraged if you don't understand everything immediately.\n",
      "\n",
      "\n",
      "This roadmap is a suggestion, adjust it based on your interests and pace. Remember to focus on understanding the underlying concepts, not just memorizing algorithms.  Good luck!\n"
     ]
    }
   ],
   "source": [
    "output = graph.invoke({\"messages\": messages})\n",
    "for m in output[\"messages\"]:\n",
    "    m.pretty_print()"
   ]
  },
  {
   "cell_type": "markdown",
   "metadata": {},
   "source": [
    "Points if we pass the entire conversation\n",
    "\n",
    "1. High cost\n",
    "2. Slow response times/ Hight Latency\n",
    "3. High token usage"
   ]
  },
  {
   "cell_type": "markdown",
   "metadata": {},
   "source": [
    "### Filtering the messages"
   ]
  },
  {
   "cell_type": "code",
   "execution_count": 9,
   "metadata": {},
   "outputs": [
    {
     "data": {
      "image/png": "[encoded data removed]",
      "text/plain": [
       "<IPython.core.display.Image object>"
      ]
     },
     "metadata": {},
     "output_type": "display_data"
    }
   ],
   "source": [
    "from langchain_core.messages import RemoveMessage\n",
    "\n",
    "# Nodes\n",
    "def filter_messages(state: MessagesState):\n",
    "    # Delete all but the 2 most recent messages\n",
    "    # This function takes the current state of the messages and creates a list of RemoveMessage objects for all messages except the last two.\n",
    "\n",
    "    delete_messages = [RemoveMessage(id=m.id) for m in state[\"messages\"][:-2]]\n",
    "    return {\"messages\": delete_messages}\n",
    "\n",
    "def chat_model_node(state: MessagesState):\n",
    "    return {\"messages\": [llm.invoke(state[\"messages\"])]}\n",
    "\n",
    "# Build graph\n",
    "builder = StateGraph(MessagesState)\n",
    "builder.add_node(\"filter_messages\", filter_messages)\n",
    "builder.add_node(\"chat_model\", chat_model_node)\n",
    "builder.add_edge(START, \"filter_messages\")\n",
    "builder.add_edge(\"filter_messages\", \"chat_model\")\n",
    "builder.add_edge(\"chat_model\", END)\n",
    "\n",
    "graph = builder.compile()\n",
    "\n",
    "display(Image(graph.get_graph(xray=True).draw_mermaid_png()))\n"
   ]
  },
  {
   "cell_type": "code",
   "execution_count": 10,
   "metadata": {},
   "outputs": [
    {
     "name": "stdout",
     "output_type": "stream",
     "text": [
      "==================================\u001b[1m Ai Message \u001b[0m==================================\n",
      "Name: Bot\n",
      "\n",
      "I am doing well, so you said you were researching AI?\n",
      "================================\u001b[1m Human Message \u001b[0m=================================\n",
      "Name: Lance\n",
      "\n",
      "Yes, I know about AI. But what other topics should I learn about?\n",
      "==================================\u001b[1m Ai Message \u001b[0m==================================\n",
      "\n",
      "That's great!  Knowing about AI is a fantastic starting point.  What you should learn next depends heavily on your goals.  To recommend relevant topics, I need a bit more information.  For example:\n",
      "\n",
      "* **What aspects of AI are you interested in?** (e.g., Machine Learning, Natural Language Processing, Computer Vision, Robotics, AI ethics, AI safety, AI business applications)\n",
      "* **What's your current background?** (e.g., programmer, data scientist, business professional, student, hobbyist)\n",
      "* **What are your goals for learning about AI?** (e.g., build an AI application, understand AI's societal impact, switch careers, improve your job performance)\n",
      "\n",
      "Once I have a better understanding of your interests and goals, I can provide a more tailored and helpful list of topics.\n",
      "\n",
      "However, here are some general areas that complement a basic understanding of AI, regardless of your specific goals:\n",
      "\n",
      "**Foundational Topics:**\n",
      "\n",
      "* **Mathematics:** Linear algebra, calculus (especially multivariate calculus and gradient descent), probability and statistics.  These are crucial for understanding the underlying mechanisms of many AI algorithms.\n",
      "* **Programming:** Python is the dominant language in AI, but familiarity with other languages like R, Java, or C++ can be beneficial depending on your focus.\n",
      "* **Data Structures and Algorithms:**  Understanding efficient data structures and algorithms is essential for processing and manipulating large datasets, a common task in AI.\n",
      "* **Databases:**  Knowing how to store, retrieve, and manage data is crucial for AI projects.  SQL and NoSQL databases are both relevant.\n",
      "* **Cloud Computing:** Many AI projects leverage cloud platforms like AWS, Google Cloud, or Azure for their computational power and scalability.\n",
      "\n",
      "**AI-Specific Topics (depending on your interest):**\n",
      "\n",
      "* **Machine Learning:**  Supervised learning, unsupervised learning, reinforcement learning.  Dive deeper into specific algorithms like linear regression, logistic regression, decision trees, support vector machines, neural networks (CNNs, RNNs, Transformers).\n",
      "* **Deep Learning:**  A subset of machine learning focused on deep neural networks.  Learn about different architectures and their applications.\n",
      "* **Natural Language Processing (NLP):**  Focus on text and speech processing, including tasks like sentiment analysis, machine translation, and text summarization.\n",
      "* **Computer Vision:**  Focus on image and video processing, including tasks like object detection, image classification, and image segmentation.\n",
      "* **Robotics:**  Combining AI with physical robots to create intelligent systems.\n",
      "* **AI Ethics and Safety:**  Understanding the ethical implications of AI and how to mitigate potential risks.\n",
      "\n",
      "\n",
      "Give me some more context, and I can give you a much more specific and helpful learning path.\n"
     ]
    }
   ],
   "source": [
    "# Message list with a preamble\n",
    "messages = [AIMessage(f\"Hi there!\", name=\"Bot\", id=\"1\")]\n",
    "messages.append(HumanMessage(f\"Hi there, how are you?\", name=\"Lance\", id=\"2\"))\n",
    "messages.append(AIMessage(f\"I am doing well, so you said you were researching AI?\", name=\"Bot\", id=\"3\"))\n",
    "messages.append(HumanMessage(f\"Yes, I know about AI. But what other topics should I learn about?\", name=\"Lance\", id=\"4\"))\n",
    "\n",
    "# Invoke\n",
    "output = graph.invoke({\"messages\": messages})\n",
    "for m in output[\"messages\"]:\n",
    "    m.pretty_print()\n"
   ]
  },
  {
   "cell_type": "markdown",
   "metadata": {},
   "source": [
    "### Trimming the messages\n",
    "\n",
    "### Trimming happens at tokens level"
   ]
  },
  {
   "cell_type": "code",
   "execution_count": 11,
   "metadata": {},
   "outputs": [
    {
     "data": {
      "image/png": "[encoded data removed]",
      "text/plain": [
       "<IPython.core.display.Image object>"
      ]
     },
     "metadata": {},
     "output_type": "display_data"
    }
   ],
   "source": [
    "from langchain_core.messages import trim_messages\n",
    "\n",
    "# Node \n",
    "def chat_model_node(state: MessagesState):\n",
    "    messages = trim_messages(\n",
    "        state[\"messages\"],\n",
    "        max_tokens=100,\n",
    "        token_counter=llm,\n",
    "        strategy=\"last\",\n",
    "        allow_partial=False,\n",
    "    )\n",
    "\n",
    "    return {\"messages\": [llm.invoke(messages)]}\n",
    "\n",
    "# Build graph\n",
    "builder = StateGraph(MessagesState)\n",
    "builder.add_node(\"chat_model\", chat_model_node)\n",
    "builder.add_edge(START, \"chat_model\")\n",
    "builder.add_edge(\"chat_model\", END)\n",
    "\n",
    "graph = builder.compile()\n",
    "\n",
    "display(Image(graph.get_graph(xray=True).draw_mermaid_png()))"
   ]
  },
  {
   "cell_type": "code",
   "execution_count": 12,
   "metadata": {},
   "outputs": [
    {
     "name": "stdout",
     "output_type": "stream",
     "text": [
      "==================================\u001b[1m Ai Message \u001b[0m==================================\n",
      "Name: Bot\n",
      "\n",
      "Hi there!\n",
      "================================\u001b[1m Human Message \u001b[0m=================================\n",
      "Name: Lance\n",
      "\n",
      "Hi there, how are you?\n",
      "==================================\u001b[1m Ai Message \u001b[0m==================================\n",
      "Name: Bot\n",
      "\n",
      "I am doing well, so you said you were researching AI?\n",
      "================================\u001b[1m Human Message \u001b[0m=================================\n",
      "Name: Lance\n",
      "\n",
      "Yes, I know about AI. But what other topics should I learn about?\n",
      "==================================\u001b[1m Ai Message \u001b[0m==================================\n",
      "\n",
      "That's great!  Knowing about AI is a fantastic starting point.  What you should learn next depends heavily on your goals.  To recommend relevant topics, I need a bit more information.  For example:\n",
      "\n",
      "* **What aspects of AI are you interested in?** (e.g., Machine Learning, Natural Language Processing, Computer Vision, Robotics, AI ethics, AI safety, AI business applications)\n",
      "* **What's your current background?** (e.g., programmer, data scientist, business professional, student, hobbyist)\n",
      "* **What are your goals for learning about AI?** (e.g., build an AI application, understand AI's societal impact, switch careers, improve your job performance)\n",
      "\n",
      "Once I have a better understanding of your interests and goals, I can provide a more tailored and helpful list of topics.\n",
      "\n",
      "However, here are some general areas that complement a basic understanding of AI, regardless of your specific goals:\n",
      "\n",
      "**Foundational Topics:**\n",
      "\n",
      "* **Mathematics:** Linear algebra, calculus (especially multivariate calculus and gradient descent), probability and statistics.  These are crucial for understanding the underlying mechanisms of many AI algorithms.\n",
      "* **Programming:** Python is the dominant language in AI, but familiarity with other languages like R, Java, or C++ can be beneficial depending on your focus.\n",
      "* **Data Structures and Algorithms:**  Understanding efficient data structures and algorithms is essential for processing and manipulating large datasets, a common task in AI.\n",
      "* **Databases:**  Knowing how to store, retrieve, and manage data is crucial for AI projects.  SQL and NoSQL databases are both relevant.\n",
      "* **Cloud Computing:** Many AI projects leverage cloud platforms like AWS, Google Cloud, or Azure for their computational power and scalability.\n",
      "\n",
      "**AI-Specific Topics (depending on your interest):**\n",
      "\n",
      "* **Machine Learning:**  Supervised learning, unsupervised learning, reinforcement learning.  Dive deeper into specific algorithms like linear regression, logistic regression, decision trees, support vector machines, neural networks (CNNs, RNNs, Transformers).\n",
      "* **Deep Learning:**  A subset of machine learning focused on deep neural networks.  Learn about different architectures and their applications.\n",
      "* **Natural Language Processing (NLP):**  Focus on text and speech processing, including tasks like sentiment analysis, machine translation, and text summarization.\n",
      "* **Computer Vision:**  Focus on image and video processing, including tasks like object detection, image classification, and image segmentation.\n",
      "* **Robotics:**  Combining AI with physical robots to create intelligent systems.\n",
      "* **AI Ethics and Safety:**  Understanding the ethical implications of AI and how to mitigate potential risks.\n",
      "\n",
      "\n",
      "Give me some more context, and I can give you a much more specific and helpful learning path.\n",
      "================================\u001b[1m Human Message \u001b[0m=================================\n",
      "Name: Lance\n",
      "\n",
      "Tell me where Orcas live!\n",
      "==================================\u001b[1m Ai Message \u001b[0m==================================\n",
      "\n",
      "Orcas, also known as killer whales, are found in all oceans of the world.  They are highly adaptable and live in a wide range of habitats, from coastal waters and fjords to open oceans.  However, their distribution isn't uniform; some populations are more resident in certain areas while others are transient.\n"
     ]
    }
   ],
   "source": [
    "messages.append(output['messages'][-1])\n",
    "messages.append(HumanMessage(f\"Tell me where Orcas live!\", name='Lance'))\n",
    "\n",
    "# Invoke\n",
    "output = graph.invoke({'messages': messages})\n",
    "for m in output['messages']:\n",
    "    m.pretty_print()"
   ]
  },
  {
   "cell_type": "code",
   "execution_count": 14,
   "metadata": {},
   "outputs": [],
   "source": [
    "list_of_messages = [\n",
    "    (\"user\", \"Hi, I'm Asif\"),\n",
    "    (\"bot\", \"Hi Asif, how are you?\"),\n",
    "    (\"user\", \"I'm doing well, how about you?\"),\n",
    "    (\"bot\", \"I'm doing well too, thanks for asking!\"),\n",
    "    (\"user\", \"What's your favorite color?\"),\n",
    "    (\"bot\", \"My favorite color is blue!\"),\n",
    "    (\"user\", \"That's a nice color. What's your favorite food?\"),\n",
    "    (\"bot\", \"My favorite food is pizza!\"),\n",
    "    (\"user\", \"Pizza sounds delicious. What's your favorite movie?\"),\n",
    "    (\"bot\", \"My favorite movie is The Matrix.\"),\n",
    "    (\"user\", \"The Matrix is a classic. What's your favorite book?\"),\n",
    "    (\"bot\", \"My favorite book is The Catcher in the Rye.\"),\n",
    "    (\"user\", \"The Catcher in the Rye is a great book. What's your favorite sport?\"),\n",
    "    (\"bot\", \"My favorite sport is basketball!\"),\n",
    "    (\"user\", \"Basketball is a fun sport. What's your favorite TV show?\"),   \n",
    "    (\"bot\", \"My favorite TV show is Breaking Bad.\"),\n",
    "    (\"user\", \"Breaking Bad is a great show. What's your favorite animal?\"),\n",
    "    (\"bot\", \"My favorite animal is a dog!\"),\n",
    "    (\"user\", \"Dogs are great pets. What's your favorite food?\"),\n",
    "    (\"bot\", \"My favorite food is pizza!\"),\n",
    "    (\"user\", \"Pizza sounds delicious. What's your favorite movie?\"),\n",
    "    (\"bot\", \"My favorite movie is The Matrix.\"),\n",
    "]"
   ]
  },
  {
   "cell_type": "code",
   "execution_count": 15,
   "metadata": {},
   "outputs": [
    {
     "name": "stdout",
     "output_type": "stream",
     "text": [
      "('user', \"Hi, I'm Asif\")\n",
      "('bot', 'Hi Asif, how are you?')\n",
      "('user', \"I'm doing well, how about you?\")\n",
      "('bot', \"I'm doing well too, thanks for asking!\")\n",
      "('user', \"What's your favorite color?\")\n",
      "('bot', 'My favorite color is blue!')\n",
      "('user', \"That's a nice color. What's your favorite food?\")\n",
      "('bot', 'My favorite food is pizza!')\n",
      "('user', \"Pizza sounds delicious. What's your favorite movie?\")\n",
      "('bot', 'My favorite movie is The Matrix.')\n",
      "('user', \"The Matrix is a classic. What's your favorite book?\")\n",
      "('bot', 'My favorite book is The Catcher in the Rye.')\n",
      "('user', \"The Catcher in the Rye is a great book. What's your favorite sport?\")\n",
      "('bot', 'My favorite sport is basketball!')\n",
      "('user', \"Basketball is a fun sport. What's your favorite TV show?\")\n",
      "('bot', 'My favorite TV show is Breaking Bad.')\n",
      "('user', \"Breaking Bad is a great show. What's your favorite animal?\")\n",
      "('bot', 'My favorite animal is a dog!')\n",
      "('user', \"Dogs are great pets. What's your favorite food?\")\n",
      "('bot', 'My favorite food is pizza!')\n",
      "('user', \"Pizza sounds delicious. What's your favorite movie?\")\n",
      "('bot', 'My favorite movie is The Matrix.')\n"
     ]
    }
   ],
   "source": [
    "for i in list_of_messages:\n",
    "    print(i)"
   ]
  },
  {
   "cell_type": "code",
   "execution_count": 16,
   "metadata": {},
   "outputs": [
    {
     "data": {
      "text/plain": [
       "[('bot', 'My favorite food is pizza!'),\n",
       " ('user', \"Pizza sounds delicious. What's your favorite movie?\"),\n",
       " ('bot', 'My favorite movie is The Matrix.')]"
      ]
     },
     "execution_count": 16,
     "metadata": {},
     "output_type": "execute_result"
    }
   ],
   "source": [
    "list_of_messages[-3:]"
   ]
  }
 ],
 "metadata": {
  "kernelspec": {
   "display_name": "base",
   "language": "python",
   "name": "python3"
  },
  "language_info": {
   "codemirror_mode": {
    "name": "ipython",
    "version": 3
   },
   "file_extension": ".py",
   "mimetype": "text/x-python",
   "name": "python",
   "nbconvert_exporter": "python",
   "pygments_lexer": "ipython3",
   "version": "3.12.7"
  }
 },
 "nbformat": 4,
 "nbformat_minor": 2
}
