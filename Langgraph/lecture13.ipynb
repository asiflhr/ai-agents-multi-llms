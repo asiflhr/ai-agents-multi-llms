{
 "cells": [
  {
   "cell_type": "markdown",
   "metadata": {},
   "source": [
    "# Lecture 13: Agentic Memory"
   ]
  },
  {
   "cell_type": "markdown",
   "metadata": {},
   "source": [
    "### Understanding Chatbots and effective token usage (trim, filtering, summary) in pure python and into to agentic memory"
   ]
  },
  {
   "cell_type": "code",
   "execution_count": 1,
   "metadata": {},
   "outputs": [],
   "source": [
    "from dotenv import load_dotenv\n",
    "import os\n",
    "\n",
    "load_dotenv()  # Load environment variables from .env file\n",
    "\n",
    "# Corrected way to retrieve the API key\n",
    "api_key = os.getenv(\"GOOGLE_API_KEY\")\n",
    "\n",
    "if not api_key:\n",
    "    raise ValueError(\"GOOGLE_API_KEY not found. Make sure it's set in the .env file.\")\n",
    "\n",
    "os.environ[\"GOOGLE_API_KEY\"] = api_key\n",
    "\n",
    "from langchain_google_genai import ChatGoogleGenerativeAI\n",
    "\n",
    "llm = ChatGoogleGenerativeAI(model=\"gemini-1.5-flash-latest\")"
   ]
  },
  {
   "cell_type": "markdown",
   "metadata": {},
   "source": [
    "### Vanilla Chatbot"
   ]
  },
  {
   "cell_type": "code",
   "execution_count": 2,
   "metadata": {},
   "outputs": [
    {
     "name": "stdout",
     "output_type": "stream",
     "text": [
      "[SystemMessage(content='You are a helpful assistant', additional_kwargs={}, response_metadata={}), HumanMessage(content='What is the meaning of life?', additional_kwargs={}, response_metadata={}), AIMessage(content='The meaning of life is to find happiness.', additional_kwargs={}, response_metadata={}), HumanMessage(content='Indian Food', additional_kwargs={}, response_metadata={})]\n",
      "Indian food is incredibly diverse, varying greatly by region, religion, and even family traditions.  It's not possible to give a single description, but here are some key characteristics and aspects:\n",
      "\n",
      "* **Regional Variations:**  North Indian cuisine differs significantly from South Indian, West Indian, and East Indian food.  For example, North India is known for its tandoori dishes, butter chicken, and naan bread, while South India features dosas, idlis, sambar, and a greater use of coconut.  Each region has its own unique spices, cooking techniques, and staple ingredients.\n",
      "\n",
      "* **Spices:**  Indian cooking is renowned for its vibrant use of spices.  Common spices include turmeric, cumin, coriander, chili powder, garam masala (a blend of spices), cardamom, cloves, ginger, and garlic.  The skillful blending of spices is a hallmark of Indian cuisine.\n",
      "\n",
      "* **Vegetarian and Non-Vegetarian Options:**  India has a large vegetarian population, and vegetarian Indian food is incredibly diverse and flavorful.  However, non-vegetarian dishes, including chicken, lamb, fish, and seafood, are also popular in many regions.\n",
      "\n",
      "* **Grains and Legumes:**  Rice, lentils (dal), and various types of bread (roti, naan, paratha) form the basis of many Indian meals.\n",
      "\n",
      "* **Sweets and Desserts:**  Indian desserts are rich and varied, often featuring milk, nuts, and spices.  Examples include gulab jamun, rasgulla, jalebi, and barfi.\n",
      "\n",
      "* **Cooking Methods:**  Indian cooking employs various methods, including frying, roasting, grilling (tandoor cooking), and stewing.\n",
      "\n",
      "To understand Indian food better, it's helpful to explore specific regional cuisines.  Are you interested in learning more about a particular region or type of Indian food?  Knowing what you're looking for will help me provide more specific information.\n"
     ]
    }
   ],
   "source": [
    "# Set the system message\n",
    "from langchain_core.messages import SystemMessage, HumanMessage, AIMessage\n",
    "\n",
    "messages = [\n",
    "    SystemMessage(content=\"You are a helpful assistant\"),\n",
    "    HumanMessage(content=\"What is the meaning of life?\"),\n",
    "    AIMessage(content=\"The meaning of life is to find happiness.\"),\n",
    "]\n",
    "\n",
    "while True:\n",
    "    user_input = input(\"Enter your message: \")\n",
    "    if user_input.lower() == \"exit\":\n",
    "        break\n",
    "    messages.append(HumanMessage(content=user_input))\n",
    "    print(messages)\n",
    "    response = llm.invoke(messages)\n",
    "    messages.append(AIMessage(content=response.content))\n",
    "    print(response.content)"
   ]
  },
  {
   "cell_type": "markdown",
   "metadata": {},
   "source": [
    "## Problems"
   ]
  },
  {
   "cell_type": "markdown",
   "metadata": {},
   "source": [
    "### 1. Long conversation history results in high token usage and slow response times and cost"
   ]
  },
  {
   "cell_type": "markdown",
   "metadata": {},
   "source": [
    "## Filtering"
   ]
  },
  {
   "cell_type": "code",
   "execution_count": 3,
   "metadata": {},
   "outputs": [
    {
     "name": "stdout",
     "output_type": "stream",
     "text": [
      "Full messages [SystemMessage(content='You are a helpful assistant', additional_kwargs={}, response_metadata={}), HumanMessage(content='Explain the concept of AI?', additional_kwargs={}, response_metadata={}), AIMessage(content='AI is a technology that allows computers to learn and improve from experience, without being explicitly programmed. It uses algorithms to analyze data, identify patterns, and make predictions or decisions.', additional_kwargs={}, response_metadata={}), HumanMessage(content='Indian food', additional_kwargs={}, response_metadata={})]\n",
      "Filtered messages [SystemMessage(content='You are a helpful assistant', additional_kwargs={}, response_metadata={}), AIMessage(content='AI is a technology that allows computers to learn and improve from experience, without being explicitly programmed. It uses algorithms to analyze data, identify patterns, and make predictions or decisions.', additional_kwargs={}, response_metadata={}), HumanMessage(content='Indian food', additional_kwargs={}, response_metadata={})]\n",
      "Indian food is incredibly diverse, varying greatly by region, religion, and even family traditions.  It's not possible to fully describe it in a short answer, but here are some key aspects:\n",
      "\n",
      "**Regional Variations:**  India's vast geography and varied climates lead to distinct culinary styles.  For example:\n",
      "\n",
      "* **North India:** Known for its rich, creamy curries often using butter, cream, and yogurt.  Dishes like butter chicken, saag paneer (spinach and cheese), and dal makhani (black lentil stew) are popular.  Flatbreads like naan and roti are staples.\n",
      "* **South India:** Characterized by lighter, spicier dishes with a focus on rice, lentils, and coconut.  Dosai (fermented rice and lentil crepes), idli (steamed rice cakes), and sambar (a lentil-based vegetable stew) are common.\n",
      "* **East India:** Features a blend of Bengali, Oriya, and Assamese cuisine, often incorporating fish, mustard oil, and sweet and sour flavors.\n",
      "* **West India:**  Shows influences from Gujarat, Maharashtra, and Goa, with a variety of vegetarian and seafood dishes.  Many dishes use coconut and spices like turmeric and chili.\n",
      "\n",
      "\n",
      "**Common Ingredients:**  Many Indian dishes share common ingredients, including:\n",
      "\n",
      "* **Spices:**  A vast array, including turmeric, cumin, coriander, chili powder, garam masala, cardamom, cloves, ginger, and garlic.  The blend of spices is crucial to the flavor profile.\n",
      "* **Lentils (Dal):**  A staple protein source, used in various soups and stews.\n",
      "* **Rice:**  A major carbohydrate source, prepared in many ways.\n",
      "* **Wheat:**  Used in making various flatbreads like roti, naan, paratha, and chapati.\n",
      "* **Vegetables:**  A wide variety, including spinach, potatoes, cauliflower, eggplant, and okra.\n",
      "\n",
      "\n",
      "**Types of Dishes:**  Indian cuisine encompasses a wide range of dish types:\n",
      "\n",
      "* **Curries:**  Stews or sauces, often served with rice or bread.\n",
      "* **Biryanis:**  Mixed rice dishes with meat, vegetables, and spices.\n",
      "* **Tandoori Dishes:**  Marinated meats and vegetables cooked in a tandoor (clay oven).\n",
      "* **Desserts:**  Often sweet and rich, using ingredients like milk, sugar, nuts, and spices.  Examples include gulab jamun, rasgulla, and jalebi.\n",
      "\n",
      "\n",
      "To truly understand Indian food, you need to explore its regional diversity and the myriad of flavors and techniques involved.  It's a cuisine rich in history, tradition, and incredible taste.\n"
     ]
    }
   ],
   "source": [
    "# Same code just top 3 messages with system message always included\n",
    "\n",
    "#Set the system message\n",
    "from langchain_core.messages import SystemMessage, HumanMessage, AIMessage\n",
    "\n",
    "\n",
    "messages = [\n",
    "    SystemMessage(content=\"You are a helpful assistant\"),\n",
    "    HumanMessage(content=\"Explain the concept of AI?\"),\n",
    "    AIMessage(content=\"AI is a technology that allows computers to learn and improve from experience, without being explicitly programmed. It uses algorithms to analyze data, identify patterns, and make predictions or decisions.\")\n",
    "]\n",
    "\n",
    "while True:\n",
    "    user_input = input(\"Enter your message: \")\n",
    "    if user_input.lower() == \"exit\":\n",
    "        break\n",
    "    messages.append(HumanMessage(content=user_input))\n",
    "    print(\"Full messages\", messages)\n",
    "\n",
    "    try:\n",
    "        # Always include system message + last 2 messages\n",
    "        filtered_messages = [messages[0]] + messages[-2:]\n",
    "        print(\"Filtered messages\", filtered_messages)\n",
    "        response = llm.invoke(filtered_messages)\n",
    "        messages.append(AIMessage(content=response.content))\n",
    "        print(response.content)\n",
    "    except Exception as e:\n",
    "        print(\"Error:\", e)\n",
    "        response = llm.invoke(messages) # Fallback to full history\n",
    "        messages.append(AIMessage(content=response.content))\n",
    "        print(response.content)\n"
   ]
  },
  {
   "cell_type": "markdown",
   "metadata": {},
   "source": [
    "## Trimming\n",
    "\n",
    "### Same code just trim last n words or tokens\n",
    "\n",
    "Set the system message\n"
   ]
  },
  {
   "cell_type": "code",
   "execution_count": 4,
   "metadata": {},
   "outputs": [],
   "source": [
    "# Same code trimmed to last 100 words of conversation with system message\n",
    "\n",
    "#Set the system message\n",
    "from langchain_core.messages import SystemMessage, HumanMessage, AIMessage\n",
    "\n",
    "\n",
    "def get_last_n_words(messages, n=100):\n",
    "    \"\"\"Get the last n words from a list of messages.\"\"\"\n",
    "    total_words = 0\n",
    "    trimmed_messages = []\n",
    "    # Iterate over the messages in reverse order (excluding system message)\n",
    "    for msg in reversed(messages[1:]):\n",
    "        words = msg.content.split() # split the content into words\n",
    "        if total_words + len(words) > n:\n",
    "            words_to_take = n - total_words\n",
    "            if words_to_take > 0:\n",
    "                trimmed_content = ' '.join(words[-words_to_take])\n",
    "                if isinstance(msg, HumanMessage):\n",
    "                    trimmed_messages.insert(0, HumanMessage(content=trimmed_content))\n",
    "                elif isinstance(msg, AIMessage):\n",
    "                    trimmed_messages.insert(0, AIMessage(content=trimmed_content))\n",
    "                total_words += words_to_take\n",
    "            break\n",
    "        else:\n",
    "            trimmed_messages.insert(0, msg)\n",
    "            total_words += len(words)\n",
    "        if total_words >= n:\n",
    "            break\n",
    "    return trimmed_messages\n",
    "\n",
    "messages = [\n",
    "    SystemMessage(content=\"You are a helpful assistant\"),\n",
    "    HumanMessage(content=\"Explain the concept of AI?\"),\n",
    "    AIMessage(content=\"AI is a technology that allows computers to learn and improve from experience, without being explicitly programmed. It uses algorithms to analyze data, identify patterns, and make predictions or decisions.\")\n",
    "]\n",
    "\n",
    "while True:\n",
    "    user_input = input(\"Enter your message: \")\n",
    "    if user_input.lower() == \"exit\":\n",
    "        break\n",
    "    messages.append(HumanMessage(content=user_input))\n",
    "    print(\"Full messages: \", messages)\n",
    "\n",
    "    try:\n",
    "        # Trim the conversation to the last 100 words\n",
    "        trimmed_conversation = get_last_n_words(messages, 100)\n",
    "        # Always include system message\n",
    "        filtered_messages = [messages[0]] + trimmed_conversation\n",
    "        print(\"Trimmed messages: \", filtered_messages)\n",
    "        response = llm.invoke(filtered_messages)\n",
    "        messages.append(AIMessage(content=response.content))\n",
    "        print(response.content)\n",
    "    except Exception as e:\n",
    "        print(\"Error:\", e)\n",
    "        response = llm.invoke(messages)  # Fallback to full history\n",
    "        messages.append(AIMessage(content=response.content))\n",
    "        print(response.content)\n"
   ]
  },
  {
   "cell_type": "markdown",
   "metadata": {},
   "source": [
    "Homework: Take a case in every 10 message u will summarize the conversation and send current input + summary rather than entire text"
   ]
  },
  {
   "cell_type": "markdown",
   "metadata": {},
   "source": [
    "Note: This is simple implementation often u would need to implement at a session and level and other levels of memory"
   ]
  }
 ],
 "metadata": {
  "kernelspec": {
   "display_name": "base",
   "language": "python",
   "name": "python3"
  },
  "language_info": {
   "codemirror_mode": {
    "name": "ipython",
    "version": 3
   },
   "file_extension": ".py",
   "mimetype": "text/x-python",
   "name": "python",
   "nbconvert_exporter": "python",
   "pygments_lexer": "ipython3",
   "version": "3.12.7"
  }
 },
 "nbformat": 4,
 "nbformat_minor": 2
}
