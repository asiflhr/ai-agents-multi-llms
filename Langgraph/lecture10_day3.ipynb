{
 "cells": [
  {
   "cell_type": "markdown",
   "metadata": {},
   "source": [
    "## Langgraph\n",
    "\n",
    "# Lecture 10- Langgraph Day 3\n",
    "\n",
    "### Step 1: Setup LLM code"
   ]
  },
  {
   "cell_type": "code",
   "execution_count": 11,
   "metadata": {},
   "outputs": [],
   "source": [
    "import os\n",
    "from dotenv import load_dotenv\n",
    "\n",
    "load_dotenv()  # Load environment variables from .env file\n",
    "\n",
    "# Corrected way to retrieve the API key\n",
    "api_key = os.getenv(\"GOOGLE_API_KEY\")\n",
    "\n",
    "if not api_key:\n",
    "    raise ValueError(\"GOOGLE_API_KEY not found. Make sure it's set in the .env file.\")\n",
    "\n",
    "os.environ[\"GOOGLE_API_KEY\"] = api_key\n",
    "\n",
    "from langchain_google_genai import ChatGoogleGenerativeAI\n",
    "\n",
    "llm = ChatGoogleGenerativeAI(model=\"gemini-1.5-flash-latest\")"
   ]
  },
  {
   "cell_type": "markdown",
   "metadata": {},
   "source": [
    "### Step 2:\n",
    "Start by creating a StateGraph. A StateGraph object defines the structure of our Chatbot as \"state machine\". We'll add nodes to represent the LLM and functions our Chatbot can call and edges to specify how the bot should transition between these functions. When defining a graph, the first step is to define it's State. The State includes the graph's schema and reducer functions that handle state updates.\n",
    "In our example, State is a TypedDict with one key: messages. The add_messages reducer function is used to append new messages to the list instead of overwriting it. Keys without a reducer function will be overwritten previous values."
   ]
  },
  {
   "cell_type": "code",
   "execution_count": 12,
   "metadata": {},
   "outputs": [],
   "source": [
    "from typing import Annotated\n",
    "from typing_extensions import TypedDict\n",
    "\n",
    "from langgraph.graph import START, StateGraph, END\n",
    "from langgraph.graph.message import add_messages\n",
    "\n",
    "class State(TypedDict):\n",
    "    \"\"\"The state of the chatbot.\"\"\"\n",
    "    # Messages have the type \"list\". The 'add_messages' function will add messages to this list.\n",
    "    # in the annotation defines how this state key should be updated\n",
    "    # (in this case, it appends messages to the list, rather than overwriting them)\n",
    "\n",
    "    messages: Annotated[list, add_messages]\n",
    "\n",
    "graph_builder = StateGraph(State)"
   ]
  },
  {
   "cell_type": "markdown",
   "metadata": {},
   "source": [
    "### Step 3:\n",
    "Defines nodes, Nodes represent units of work. They are typically regular python functions."
   ]
  },
  {
   "cell_type": "code",
   "execution_count": 7,
   "metadata": {},
   "outputs": [
    {
     "name": "stdout",
     "output_type": "stream",
     "text": [
      "Defaulting to user installation because normal site-packages is not writeable\n",
      "Collecting tavily-python\n",
      "  Downloading tavily_python-0.5.1-py3-none-any.whl.metadata (91 kB)\n",
      "Requirement already satisfied: requests in c:\\programdata\\anaconda3\\lib\\site-packages (from tavily-python) (2.32.3)\n",
      "Requirement already satisfied: tiktoken>=0.5.1 in c:\\users\\asif8\\appdata\\roaming\\python\\python312\\site-packages (from tavily-python) (0.9.0)\n",
      "Requirement already satisfied: httpx in c:\\programdata\\anaconda3\\lib\\site-packages (from tavily-python) (0.27.0)\n",
      "Requirement already satisfied: regex>=2022.1.18 in c:\\programdata\\anaconda3\\lib\\site-packages (from tiktoken>=0.5.1->tavily-python) (2024.9.11)\n",
      "Requirement already satisfied: charset-normalizer<4,>=2 in c:\\programdata\\anaconda3\\lib\\site-packages (from requests->tavily-python) (3.3.2)\n",
      "Requirement already satisfied: idna<4,>=2.5 in c:\\programdata\\anaconda3\\lib\\site-packages (from requests->tavily-python) (3.7)\n",
      "Requirement already satisfied: urllib3<3,>=1.21.1 in c:\\programdata\\anaconda3\\lib\\site-packages (from requests->tavily-python) (2.2.3)\n",
      "Requirement already satisfied: certifi>=2017.4.17 in c:\\programdata\\anaconda3\\lib\\site-packages (from requests->tavily-python) (2025.1.31)\n",
      "Requirement already satisfied: anyio in c:\\programdata\\anaconda3\\lib\\site-packages (from httpx->tavily-python) (4.2.0)\n",
      "Requirement already satisfied: httpcore==1.* in c:\\programdata\\anaconda3\\lib\\site-packages (from httpx->tavily-python) (1.0.2)\n",
      "Requirement already satisfied: sniffio in c:\\programdata\\anaconda3\\lib\\site-packages (from httpx->tavily-python) (1.3.0)\n",
      "Requirement already satisfied: h11<0.15,>=0.13 in c:\\programdata\\anaconda3\\lib\\site-packages (from httpcore==1.*->httpx->tavily-python) (0.14.0)\n",
      "Downloading tavily_python-0.5.1-py3-none-any.whl (43 kB)\n",
      "Installing collected packages: tavily-python\n",
      "Successfully installed tavily-python-0.5.1\n",
      "Note: you may need to restart the kernel to use updated packages.\n"
     ]
    }
   ],
   "source": [
    "%pip install tavily-python"
   ]
  },
  {
   "cell_type": "code",
   "execution_count": 29,
   "metadata": {},
   "outputs": [],
   "source": [
    "# Step 1: Define a tool\n",
    "\n",
    "from langchain_community.tools import WikipediaQueryRun\n",
    "from langchain_community.utilities import WikipediaAPIWrapper\n",
    "from tavily import TavilyClient\n",
    "\n",
    "wikipedia = WikipediaQueryRun(api_wrapper=WikipediaAPIWrapper(top_k_results=1, doc_content_chars_max=1000000))\n",
    "tavily_client = TavilyClient(api_key=os.getenv(\"TAVILY_API_KEY\"))\n",
    "\n",
    "# print(wikipedia.run({\"query\": \"What is the capital of France?\"}))\n",
    "def wikipedia_tool(query: str) -> str:\n",
    "    \"\"\"Goes to wikipedia and searches for the query\n",
    "    Args:\n",
    "        query (str): The query to search for.\n",
    "    Returns:\n",
    "        str: The result to the query.\n",
    "    \"\"\"\n",
    "    wikipedia = WikipediaQueryRun(api_wrapper=WikipediaAPIWrapper(top_k_results=1, doc_content_chars_max=1000000))\n",
    "    return wikipedia.run({\"query\": query})\n",
    "\n",
    "\n",
    "def tavily_tool(query: str) -> str:\n",
    "    \"\"\"Goes to tavily search and searches for the query and gives the detailed content\n",
    "    Args:\n",
    "        query (str): The query to search for.\n",
    "    Returns:\n",
    "        str: The result to the query.\n",
    "    \"\"\"\n",
    "\n",
    "    respone = tavily_client.search(query)\n",
    "    content = \"\"\n",
    "    for result in respone['results']:\n",
    "        content += result['content']\n",
    "    return content\n",
    "\n",
    "llm_with_wikipedia_tool = llm.bind_tools([wikipedia_tool])\n",
    "llm_with_tavily_tool = llm.bind_tools([tavily_tool])\n",
    "\n",
    "from langchain_core.messages import SystemMessage\n",
    "\n",
    "sys_message_wikipedia = SystemMessage(content=\"You are a helpful assistant that breaks down the query into a key word and searches wikipedia for the key word\")\n",
    "sys_message_tavily = SystemMessage(content=\"You are a helpful assistant that breaks down the query into a key word and searches tavily for the key word\")\n",
    "\n",
    "# Define Nodes\n",
    "def wikipedia_llm(state: State):\n",
    "    return {\"messages\": [llm_with_wikipedia_tool.invoke([sys_message_wikipedia] + state[\"messages\"])]}\n",
    "sys_message_summarize = SystemMessage(content=\"You are a helpful assistant that summarizes the content given to you\")\n",
    "\n",
    "def summarize_llm(state: State):\n",
    "    \"\"\"Summarizes the wikipedia content\"\"\"\n",
    "    return {\"messages\": [llm.invoke([sys_message_summarize] + state[\"messages\"])]}\n",
    "\n",
    "\n",
    "# def tavily_llm(state: State):\n",
    "#     return {'messages': [llm_with_tavily_tool.invoke([sys_message_tavily] + state[\"messages\"] )]}"
   ]
  },
  {
   "cell_type": "markdown",
   "metadata": {},
   "source": [
    "## Define Graph"
   ]
  },
  {
   "cell_type": "code",
   "execution_count": 31,
   "metadata": {},
   "outputs": [
    {
     "data": {
      "image/png": "[encoded data removed]",
      "text/plain": [
       "<IPython.core.display.Image object>"
      ]
     },
     "metadata": {},
     "output_type": "display_data"
    }
   ],
   "source": [
    "from IPython.display import display, Image\n",
    "from langgraph.graph import START, StateGraph, END\n",
    "from langgraph.prebuilt import ToolNode\n",
    "\n",
    "graph_builder = StateGraph(State)\n",
    "graph_builder.add_node(\"wikipedia_tool_calling_llm\", wikipedia_llm)\n",
    "graph_builder.add_node(\"wiki_tool\", ToolNode([wikipedia_tool]))\n",
    "graph_builder.add_node(\"summarize_llm\", summarize_llm)\n",
    "# graph_builder.add_node(\"tavily_tool_calling_llm\", tavily_llm)  \n",
    "# graph_builder.add_node(\"tavily_tool\",ToolNode([tavily_tool]))\n",
    "\n",
    "graph_builder.add_edge(START, \"wikipedia_tool_calling_llm\")\n",
    "# graph_builder.add_edge(START, \"tavily_tool_calling_llm\")\n",
    "# graph_builder.add_edge(\"tavily_tool_calling_llm\", \"tavily_tool\")\n",
    "graph_builder.add_edge(\"wikipedia_tool_calling_llm\", \"wiki_tool\")\n",
    "\n",
    "graph_builder.add_edge(\"wiki_tool\", \"summarize_llm\")\n",
    "# graph_builder.add_edge(\"tavily_tool\", \"summarize_llm\")\n",
    "graph_builder.add_edge(\"summarize_llm\", END)\n",
    "\n",
    "graph = graph_builder.compile()\n",
    "\n",
    "try:\n",
    "    display(Image(graph.get_graph(xray=True).draw_mermaid_png()))\n",
    "except Exception:\n",
    "    # This requires some extra dependiencies\n",
    "    pass"
   ]
  },
  {
   "cell_type": "markdown",
   "metadata": {},
   "source": [
    "## Check the Graph"
   ]
  },
  {
   "cell_type": "code",
   "execution_count": 35,
   "metadata": {},
   "outputs": [],
   "source": [
    "from langchain_core.messages import HumanMessage\n",
    "messages = graph.invoke({\"messages\": [HumanMessage(content=\"Pakistani Food\")]})"
   ]
  },
  {
   "cell_type": "code",
   "execution_count": 36,
   "metadata": {},
   "outputs": [
    {
     "data": {
      "text/plain": [
       "{'messages': [HumanMessage(content='Pakistani Food', additional_kwargs={}, response_metadata={}, id='a987cbd2-2e7c-4059-b6fe-d2c81deee581'),\n",
       "  AIMessage(content='', additional_kwargs={'function_call': {'name': 'wikipedia_tool', 'arguments': '{\"query\": \"Pakistani Food\"}'}}, response_metadata={'prompt_feedback': {'block_reason': 0, 'safety_ratings': []}, 'finish_reason': 'STOP', 'safety_ratings': []}, id='run-fc6361fe-b16e-429a-9639-92600c45a437-0', tool_calls=[{'name': 'wikipedia_tool', 'args': {'query': 'Pakistani Food'}, 'id': '012597ad-766b-44ca-b797-014a34177ce0', 'type': 'tool_call'}], usage_metadata={'input_tokens': 65, 'output_tokens': 7, 'total_tokens': 72, 'input_token_details': {'cache_read': 0}}),\n",
       "  ToolMessage(content=\"Page: Pakistani cuisine\\nSummary: Pakistani cuisine (Urdu: پاکستانی پکوان, romanized: pākistānī pakwān) is a blend of regional cooking styles and flavours from across South, Central and West Asia. The cuisine of Pakistan also maintains certain Mughal influences within its recipes and cooking techniques, particularly the use of dried fruits and nuts. Pakistan's ethnic and cultural diversity, diverse climates, geographical environments, and availability of different produce lead to diverse regional cuisines.\\nPakistani cuisine, like the culinary traditions of most Muslim-majority nations, adheres to halal principles in accordance with Islamic dietary laws, which prohibit the consumption of pork and alcohol, among other restrictions. Additionally, halal regulations outline specific guidelines for meat consumption, including which animals are considered permissible (halal) and the proper methods of slaughter and preparation to ensure compliance with Islamic dietary practices.\\nPakistani cuisine is traditionally centered around meat-based dishes. However, the high cost of meat, coupled with widespread poverty, leads many households to substitute meat for more affordable staples such as lentils, rice, and vegetables.\\nInternational cuisine and fast food are popular in major cities such as Islamabad, Lahore, Peshawar, Quetta, and Karachi, where local and foreign recipes often merge to create fusion dishes, such as Pakistani-Chinese cuisine. Additionally, as a result of lifestyle changes, health trends, and new dietary research being published, traditional ingredients such as masala (pre-mixed and ready-to-use) and ghee (clarified butter)—with its health benefits and high smoke point—have been increasingly popular.\\nSimilar to other Central Asian cultures, families in Pakistan traditionally dine seated on a dastarkhān—a special rug spread out on the floor. To prevent food spills from soiling the rug, it is typically covered with a plastic sheet or disposable mat. After the meal, tea is customarily served, and family members engage in conversations, relaxing against the large cushions or pillows commonly arranged around the dastarkhān for added comfort.\", name='wikipedia_tool', id='d4ffd586-4d53-4b91-9c15-85e16eed93d9', tool_call_id='012597ad-766b-44ca-b797-014a34177ce0'),\n",
       "  AIMessage(content='Pakistani cuisine is a diverse blend of regional cooking styles from South, Central, and West Asia, with Mughal influences evident in the use of dried fruits and nuts.  It adheres to halal principles, prohibiting pork and alcohol.  While traditionally meat-focused, many rely on lentils, rice, and vegetables due to cost.  International and fast food are popular in cities, leading to fusion dishes.  Traditional family meals often involve a dastarkhan (floor seating) and conclude with tea.', additional_kwargs={}, response_metadata={'prompt_feedback': {'block_reason': 0, 'safety_ratings': []}, 'finish_reason': 'STOP', 'safety_ratings': []}, id='run-7f7e9e08-a4ba-46c6-b77c-77e46093313b-0', usage_metadata={'input_tokens': 437, 'output_tokens': 101, 'total_tokens': 538, 'input_token_details': {'cache_read': 0}})]}"
      ]
     },
     "execution_count": 36,
     "metadata": {},
     "output_type": "execute_result"
    }
   ],
   "source": [
    "messages"
   ]
  },
  {
   "cell_type": "code",
   "execution_count": 37,
   "metadata": {},
   "outputs": [
    {
     "name": "stdout",
     "output_type": "stream",
     "text": [
      "================================\u001b[1m Human Message \u001b[0m=================================\n",
      "\n",
      "Pakistani Food\n",
      "==================================\u001b[1m Ai Message \u001b[0m==================================\n",
      "Tool Calls:\n",
      "  wikipedia_tool (012597ad-766b-44ca-b797-014a34177ce0)\n",
      " Call ID: 012597ad-766b-44ca-b797-014a34177ce0\n",
      "  Args:\n",
      "    query: Pakistani Food\n",
      "=================================\u001b[1m Tool Message \u001b[0m=================================\n",
      "Name: wikipedia_tool\n",
      "\n",
      "Page: Pakistani cuisine\n",
      "Summary: Pakistani cuisine (Urdu: پاکستانی پکوان, romanized: pākistānī pakwān) is a blend of regional cooking styles and flavours from across South, Central and West Asia. The cuisine of Pakistan also maintains certain Mughal influences within its recipes and cooking techniques, particularly the use of dried fruits and nuts. Pakistan's ethnic and cultural diversity, diverse climates, geographical environments, and availability of different produce lead to diverse regional cuisines.\n",
      "Pakistani cuisine, like the culinary traditions of most Muslim-majority nations, adheres to halal principles in accordance with Islamic dietary laws, which prohibit the consumption of pork and alcohol, among other restrictions. Additionally, halal regulations outline specific guidelines for meat consumption, including which animals are considered permissible (halal) and the proper methods of slaughter and preparation to ensure compliance with Islamic dietary practices.\n",
      "Pakistani cuisine is traditionally centered around meat-based dishes. However, the high cost of meat, coupled with widespread poverty, leads many households to substitute meat for more affordable staples such as lentils, rice, and vegetables.\n",
      "International cuisine and fast food are popular in major cities such as Islamabad, Lahore, Peshawar, Quetta, and Karachi, where local and foreign recipes often merge to create fusion dishes, such as Pakistani-Chinese cuisine. Additionally, as a result of lifestyle changes, health trends, and new dietary research being published, traditional ingredients such as masala (pre-mixed and ready-to-use) and ghee (clarified butter)—with its health benefits and high smoke point—have been increasingly popular.\n",
      "Similar to other Central Asian cultures, families in Pakistan traditionally dine seated on a dastarkhān—a special rug spread out on the floor. To prevent food spills from soiling the rug, it is typically covered with a plastic sheet or disposable mat. After the meal, tea is customarily served, and family members engage in conversations, relaxing against the large cushions or pillows commonly arranged around the dastarkhān for added comfort.\n",
      "==================================\u001b[1m Ai Message \u001b[0m==================================\n",
      "\n",
      "Pakistani cuisine is a diverse blend of regional cooking styles from South, Central, and West Asia, with Mughal influences evident in the use of dried fruits and nuts.  It adheres to halal principles, prohibiting pork and alcohol.  While traditionally meat-focused, many rely on lentils, rice, and vegetables due to cost.  International and fast food are popular in cities, leading to fusion dishes.  Traditional family meals often involve a dastarkhan (floor seating) and conclude with tea.\n"
     ]
    }
   ],
   "source": [
    "for m in messages['messages']:\n",
    "    m.pretty_print()"
   ]
  }
 ],
 "metadata": {
  "kernelspec": {
   "display_name": "base",
   "language": "python",
   "name": "python3"
  },
  "language_info": {
   "codemirror_mode": {
    "name": "ipython",
    "version": 3
   },
   "file_extension": ".py",
   "mimetype": "text/x-python",
   "name": "python",
   "nbconvert_exporter": "python",
   "pygments_lexer": "ipython3",
   "version": "3.12.7"
  }
 },
 "nbformat": 4,
 "nbformat_minor": 2
}
