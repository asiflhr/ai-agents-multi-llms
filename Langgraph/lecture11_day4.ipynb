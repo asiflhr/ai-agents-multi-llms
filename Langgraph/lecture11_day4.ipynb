{
 "cells": [
  {
   "cell_type": "markdown",
   "metadata": {},
   "source": [
    "# Lecture 11- Langgraph Day 4\n",
    "\n",
    "Simple tool call with Langgraph must for stable tasks\n",
    "\n",
    "### Step 1: Setup LLM code"
   ]
  },
  {
   "cell_type": "code",
   "execution_count": 1,
   "metadata": {},
   "outputs": [],
   "source": [
    "from dotenv import load_dotenv\n",
    "import os\n",
    "\n",
    "load_dotenv()  # Load environment variables from .env file\n",
    "\n",
    "# Corrected way to retrieve the API key\n",
    "api_key = os.getenv(\"GOOGLE_API_KEY\")\n",
    "\n",
    "if not api_key:\n",
    "    raise ValueError(\"GOOGLE_API_KEY not found. Make sure it's set in the .env file.\")\n",
    "\n",
    "os.environ[\"GOOGLE_API_KEY\"] = api_key\n",
    "\n",
    "from langchain_google_genai import ChatGoogleGenerativeAI\n",
    "\n",
    "llm = ChatGoogleGenerativeAI(model=\"gemini-1.5-flash-latest\")"
   ]
  },
  {
   "cell_type": "code",
   "execution_count": 2,
   "metadata": {},
   "outputs": [],
   "source": [
    "# Step 1: Define a tool\n",
    "\n",
    "from langchain_community.tools import WikipediaQueryRun\n",
    "from langchain_community.utilities import WikipediaAPIWrapper\n",
    "from tavily import TavilyClient\n",
    "\n",
    "wikipedia = WikipediaQueryRun(api_wrapper=WikipediaAPIWrapper(top_k_results=1, doc_content_chars_max=1000000))\n",
    "tavily_client = TavilyClient(api_key=os.getenv(\"TAVILY_API_KEY\"))\n"
   ]
  },
  {
   "cell_type": "code",
   "execution_count": 3,
   "metadata": {},
   "outputs": [],
   "source": [
    "query = \"Indian Food\""
   ]
  },
  {
   "cell_type": "code",
   "execution_count": 5,
   "metadata": {},
   "outputs": [],
   "source": [
    "from langchain_core.messages import AIMessage\n",
    "from langchain_core.tools import tool\n",
    "\n",
    "from langgraph.prebuilt import ToolNode"
   ]
  },
  {
   "cell_type": "code",
   "execution_count": 6,
   "metadata": {},
   "outputs": [],
   "source": [
    "@tool\n",
    "def get_wikipedia_result(query: str):\n",
    "    \"Call to get wikipedia result\"\n",
    "    wikipedia = WikipediaQueryRun(api_wrapper=WikipediaAPIWrapper(top_k_results=1, doc_content_chars_max=1000000))\n",
    "    return wikipedia.run({\"query\": query})\n",
    "\n",
    "@tool\n",
    "def get_tavily_results(query: str):\n",
    "    \"Call to get tavily results\"\n",
    "    response = tavily_client.search(query, max_results=10)\n",
    "    content = \"\"\n",
    "    for result in response['results']:\n",
    "        content += result['content']\n",
    "    return content"
   ]
  },
  {
   "cell_type": "code",
   "execution_count": 7,
   "metadata": {},
   "outputs": [],
   "source": [
    "tool1 = [get_wikipedia_result]\n",
    "tool2 = [get_tavily_results]\n",
    "tool_node1 = ToolNode(tool1)\n",
    "tool_node2 = ToolNode(tool2)"
   ]
  },
  {
   "cell_type": "code",
   "execution_count": 9,
   "metadata": {},
   "outputs": [],
   "source": [
    "message_with_single_tool_call_wiki = AIMessage(\n",
    "    content=\"\",\n",
    "    tool_calls=[\n",
    "        {\n",
    "            \"name\": \"get_wikipedia_result\",\n",
    "            \"args\": {\"query\": query},\n",
    "            \"id\": \"tool_call_1\",\n",
    "            \"type\": \"tool_call\",\n",
    "        }\n",
    "    ])\n",
    "\n",
    "response_tool_1 = tool_node1.invoke({\"messages\": [message_with_single_tool_call_wiki]})"
   ]
  },
  {
   "cell_type": "code",
   "execution_count": 10,
   "metadata": {},
   "outputs": [
    {
     "name": "stdout",
     "output_type": "stream",
     "text": [
      "=================================\u001b[1m Tool Message \u001b[0m=================================\n",
      "Name: get_wikipedia_result\n",
      "\n",
      "Page: Indian cuisine\n",
      "Summary: Indian cuisine consists of a variety of regional and traditional cuisines native to the Indian subcontinent. Given the diversity in soil, climate, culture, ethnic groups, and occupations, these cuisines vary substantially and use locally available spices, herbs, vegetables, and fruits.\n",
      "Indian food is also heavily influenced by religion, in particular Hinduism and Islam, cultural choices and traditions. Historical events such as invasions, trade relations, and colonialism have played a role in introducing certain foods to India. The Columbian discovery of the New World brought a number of new vegetables and fruits. A number of these such as potatoes, tomatoes, chillies, peanuts, and guava have become staples in many regions of India.\n",
      "Indian cuisine has shaped the history of international relations; the spice trade between India and Europe was the primary catalyst for Europe's Age of Discovery. Spices were bought from India and traded around Europe and Asia. Indian cuisine has influenced other cuisines across the world, especially those from Europe (Britain in particular), the Middle East, Southern African, East Africa, Southeast Asia, North America, Mauritius, Fiji, Oceania, and the Caribbean.\n",
      "World Wildlife Fund (WWF)’s Living Planet Report released on 10 October 2024 emphasized India’s food consumption pattern as the most sustainable among the big economies (G20 countries).\n",
      "\n",
      "\n"
     ]
    }
   ],
   "source": [
    "for m in response_tool_1['messages']:\n",
    "    m.pretty_print()"
   ]
  },
  {
   "cell_type": "code",
   "execution_count": 11,
   "metadata": {},
   "outputs": [],
   "source": [
    "message_with_single_tool_call_tavily = AIMessage(\n",
    "    content=\"\",\n",
    "    tool_calls=[\n",
    "        {\n",
    "            \"name\": \"get_tavily_results\",\n",
    "            \"args\": {\"query\": query},\n",
    "            \"id\": \"tool_call_id\",\n",
    "            \"type\": \"tool_call\",\n",
    "        }\n",
    "    ])\n",
    "\n",
    "response_tool_2 = tool_node2.invoke({\"messages\": [message_with_single_tool_call_tavily]})"
   ]
  },
  {
   "cell_type": "code",
   "execution_count": 12,
   "metadata": {},
   "outputs": [
    {
     "name": "stdout",
     "output_type": "stream",
     "text": [
      "=================================\u001b[1m Tool Message \u001b[0m=================================\n",
      "Name: get_tavily_results\n",
      "\n",
      "Indian cuisine consists of a diverse range of curries, rice dishes, meats, vegetables and breads, all flavored with a traditional range of spices. Whilst delicacies vary by region and state, there are many similarities in terms of spices and flavors, regardless of the geographical region.Indian food is known for its bold use of aromatic spices such as cumin, coriander, and turmeric, which create the complex and vibrant flavors that define the cuisine. Along with its well-known meat dishes, Indian cuisine also offers a variety of vegan options, including vegetable curries and lentil-based meals.India Food: 25 Most Popular Traditional Dishes To Eat In India - Rainforest Cruises Destinations Experiences Deals About Search Contact +1.888.215.3555 Agents Back Expedition Cruises South America Asia Bucket List Back Adventure Luxury Family Honeymoon Charter Solo Back Back Back Amazon River Galápagos Islands Indonesian Archipelago Mekong River Irrawaddy River India Cruises Pacific Coast Patagonia Cruises View All Back Peru Brazil Ecuador Amazon Galápagos Argentina Bolivia Chile View All Back Vietnam Thailand Indonesia Myanmar Cambodia Laos India View All Back Machu Picchu Angkor Wat Halong Bay Iguazu Falls Pantanal View All Destinations Experiences Deals About Search Give Us a Call +1.888.215.3555 Agents Expedition Cruises Amazon River Galápagos Islands Indonesian Archipelago Mekong River Irrawaddy River India Cruises Pacific Coast Patagonia Cruises South America Peru Brazil Ecuador Amazon Galápagos Argentina Bolivia Chile Asia Vietnam Thailand Indonesia Myanmar Cambodia Laos India Bucket List Machu Picchu Angkor Wat Halong Bay Iguazu Falls Pantanal Adventure Luxury Family Honeymoon Charter Solo Home India India Travel Guide India Food: 25 Most Popular Traditional Dishes To Eat In India India Food: 25 Most Popular Traditional Dishes To Eat In India Cuisine Traditional Indian food is renowned worldwide for its wonderful use of herbs and spices, and its diverse range of deep-fried snacks, pastries, curries, gravies, sauces, rice dishes, tandoor-cooked meats, vegetable dishes, chutneys, breads and sweets. Indian cuisine replicates a 5000-year history of the melding of various cultures, leading to diverse flavors and regional cuisines. Yet, while delicacies vary by region and state, most are built from the same taste foundations and there are many similarities in terms of spices and flavors, regardless of the geographical region. Staple ingredients in Indian cooking include rice, tomatoes, potatoes, lentils, chickpeas, onions and yoghurt, and the most common spices used to flavor authentic Indian food include turmeric, cumin, coriander, mustard seeds, cardamom, chili, garlic, cloves, saffron, fennel, nutmeg, star anise, and fenugreek.Indian cuisine is incredibly diverse. You'll find rich curries and breads throughout the Northern region, rice- and lentil-based dishes in the Southern—and plenty of sweets, street foods andSouth Indian cuisine features more coconut milk-based flavor profiles, herbs like lemongrass and curry leaves, and native fruits. Rather than breads, you'll find more rice, lentils, and stews—and sauces are generally thinner as a result. Kerala. Street food in Kerala might include pazham pori (banana fritters) and sweet dumplings.Explore the diversity and richness of Indian cuisine with 50 dishes from different regions and religions. Learn how to make dosa, idli, parathas, poha, samosa, chole bhature, medhu vada, and more.Butter chicken (or murgh makhani) is probably the most beloved chicken dish from India and the ultimate comfort curry. Tender chicken chunks swim in a velvety tomato sauce, made with butter, onions and cream.Learn about the most popular Indian dishes, their names, ingredients, and how they are served. This guide covers appetizers, breads, meals, and desserts with examples and tips.Indian food junction/Shutterstock Chole bhature is a Punjabi recipe and a meal in one, consisting of deep-fried leavened bread and a spiced tomato and onion chickpea mixture.The ultimate guide to Authentic & Restaurant quality Indian Recipes. Browse through many Time-tested Vegetarian & Meat Recipes\n"
     ]
    }
   ],
   "source": [
    "for m in response_tool_2['messages']:\n",
    "    m.pretty_print()"
   ]
  },
  {
   "cell_type": "code",
   "execution_count": 13,
   "metadata": {},
   "outputs": [],
   "source": [
    "system_message_summarize = f'''You are expert at a giving a detailed summary of the content given to you.\n",
    "User Query: {query}\n",
    "\n",
    "Wikipedia Result: {response_tool_1['messages']}\n",
    "\n",
    "Tavily Result: {response_tool_2['messages']}\n",
    "\n",
    "Always attibute the responses to sources (Wikipedia and Tavily)\n",
    "'''"
   ]
  },
  {
   "cell_type": "code",
   "execution_count": 14,
   "metadata": {},
   "outputs": [],
   "source": [
    "final_summary = llm.invoke(system_message_summarize)"
   ]
  },
  {
   "cell_type": "code",
   "execution_count": 15,
   "metadata": {},
   "outputs": [
    {
     "name": "stdout",
     "output_type": "stream",
     "text": [
      "Indian cuisine is incredibly diverse, varying substantially across regions due to differences in soil, climate, culture, ethnic groups, and occupations (Wikipedia).  This diversity is reflected in the use of locally available spices, herbs, vegetables, and fruits (Wikipedia).  Religious influences, particularly Hinduism and Islam, along with historical events like invasions, trade, and colonialism, have also shaped Indian food (Wikipedia).  The Columbian Exchange introduced staples like potatoes, tomatoes, chilies, peanuts, and guava (Wikipedia).\n",
      "\n",
      "The cuisine is characterized by a wide range of curries, rice dishes, meats, vegetables, and breads, all flavored with a traditional array of spices (Tavily).  Common spices include cumin, coriander, and turmeric, creating complex and vibrant flavors (Tavily).  While regional variations exist, many similarities in spices and flavors remain across geographical areas (Tavily).  Northern India features rich curries and breads, while Southern India emphasizes rice, lentil-based dishes, and coconut milk-based flavors with herbs like lemongrass and curry leaves (Tavily).  Staple ingredients include rice, tomatoes, potatoes, lentils, chickpeas, onions, and yogurt (Tavily).  Common spices include turmeric, cumin, coriander, mustard seeds, cardamom, chili, garlic, cloves, saffron, fennel, nutmeg, star anise, and fenugreek (Tavily).  The cuisine also offers many vegan options (Tavily).\n",
      "\n",
      "Indian cuisine's historical impact is significant; the spice trade with Europe fueled the Age of Discovery (Wikipedia).  It has also influenced cuisines worldwide, including those in Europe (especially Britain), the Middle East, Southern and East Africa, Southeast Asia, North America, Mauritius, Fiji, Oceania, and the Caribbean (Wikipedia).  Recently, the WWF's Living Planet Report highlighted India's food consumption pattern as the most sustainable among G20 nations (Wikipedia).  Tavily highlights dishes like butter chicken, chole bhature, and various regional specialties, showcasing the breadth and depth of the cuisine.\n"
     ]
    }
   ],
   "source": [
    "print(final_summary.content)"
   ]
  },
  {
   "cell_type": "code",
   "execution_count": 16,
   "metadata": {},
   "outputs": [],
   "source": [
    "with open(\"results.txt\", \"w\") as file:\n",
    "    file.write(final_summary.content)"
   ]
  }
 ],
 "metadata": {
  "kernelspec": {
   "display_name": "base",
   "language": "python",
   "name": "python3"
  },
  "language_info": {
   "codemirror_mode": {
    "name": "ipython",
    "version": 3
   },
   "file_extension": ".py",
   "mimetype": "text/x-python",
   "name": "python",
   "nbconvert_exporter": "python",
   "pygments_lexer": "ipython3",
   "version": "3.12.7"
  }
 },
 "nbformat": 4,
 "nbformat_minor": 2
}
