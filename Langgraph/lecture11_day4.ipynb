{
 "cells": [
  {
   "cell_type": "markdown",
   "metadata": {},
   "source": [
    "## Langgraph\n",
    "\n",
    "# Lecture 11- Langgraph Day 4\n",
    "\n",
    "Simple tool call with Langgraph must for stable tasks\n",
    "\n",
    "### Step 1: Setup LLM code"
   ]
  },
  {
   "cell_type": "code",
   "execution_count": null,
   "metadata": {},
   "outputs": [],
   "source": [
    "import os\n",
    "from dotenv import load_dotenv\n",
    "\n",
    "load_dotenv()  # Load environment variables from .env file\n",
    "\n",
    "# Corrected way to retrieve the API key\n",
    "api_key = os.getenv(\"GOOGLE_API_KEY\")\n",
    "\n",
    "if not api_key:\n",
    "    raise ValueError(\"GOOGLE_API_KEY not found. Make sure it's set in the .env file.\")\n",
    "\n",
    "os.environ[\"GOOGLE_API_KEY\"] = api_key\n",
    "\n",
    "from langchain_google_genai import ChatGoogleGenerativeAI\n",
    "\n",
    "llm = ChatGoogleGenerativeAI(model=\"gemini-1.5-flash-latest\")"
   ]
  },
  {
   "cell_type": "code",
   "execution_count": null,
   "metadata": {},
   "outputs": [],
   "source": [
    "# Step 1: Define a tool\n",
    "\n",
    "from langchain_community.tools import WikipediaQueryRun\n",
    "from langchain_community.utilities import WikipediaAPIWrapper\n",
    "from tavily import TavilyClient\n",
    "\n",
    "wikipedia = WikipediaQueryRun(api_wrapper=WikipediaAPIWrapper(top_k_results=1, doc_content_chars_max=1000000))\n",
    "tavily_client = TavilyClient(api_key=os.getenv(\"TAVILY_API_KEY\"))\n"
   ]
  },
  {
   "cell_type": "code",
   "execution_count": null,
   "metadata": {},
   "outputs": [],
   "source": [
    "query = \"Indian Food\""
   ]
  },
  {
   "cell_type": "code",
   "execution_count": null,
   "metadata": {},
   "outputs": [],
   "source": [
    "from langchain_core.messages import AIMessage\n",
    "from langchain_core.tools import tool\n",
    "\n",
    "from langgraph.prebuild import ToolNode"
   ]
  },
  {
   "cell_type": "code",
   "execution_count": null,
   "metadata": {},
   "outputs": [],
   "source": [
    "@tool\n",
    "def get_wikipedia_result(query: str):\n",
    "    \"Call to get wikipedia result\"\n",
    "    wikipedia = WikipediaQueryRun(api_wrapper=WikipediaAPIWrapper(top_k_results=1, doc_content_chars_max=1000000))\n",
    "    return wikipedia.run({\"query\": query})\n",
    "\n",
    "@tool\n",
    "def get_tavily_results(query: str):\n",
    "    \"Call to get tavily results\"\n",
    "    response = tavily_client.search(query, max_results=10)\n",
    "    content = \"\"\n",
    "    for result in response['results']:\n",
    "        content += result['content']\n",
    "    return content"
   ]
  },
  {
   "cell_type": "code",
   "execution_count": null,
   "metadata": {},
   "outputs": [],
   "source": [
    "tool1 = [get_wikipedia_result]\n",
    "tool2 = [get_tavily_results]\n",
    "tool_node1 = ToolNode(tool1)\n",
    "tool_node2 = ToolNode(tool2)"
   ]
  },
  {
   "cell_type": "code",
   "execution_count": null,
   "metadata": {},
   "outputs": [],
   "source": [
    "message_with_single_tool_call_wiki = AIMessage(\n",
    "    content=\"\"\n",
    "    tool_calls=[\n",
    "        {\n",
    "            \"name\": \"get_wikipedia_result\",\n",
    "            \"args\": {\"query\": query},\n",
    "            \"id\": \"tool_call_1\",\n",
    "            \"type\": \"tool_call\",\n",
    "        }\n",
    "    ])\n",
    "\n",
    "response_tool_1 = tool_node1.invoke({\"messages\": [message_with_single_tool_call_wiki]})"
   ]
  },
  {
   "cell_type": "code",
   "execution_count": null,
   "metadata": {},
   "outputs": [],
   "source": [
    "for m in response_tool_1['messages']:\n",
    "    m.pretty_print()"
   ]
  },
  {
   "cell_type": "code",
   "execution_count": null,
   "metadata": {},
   "outputs": [],
   "source": [
    "message_with_single_tool_call_tavily = AIMessage(\n",
    "    content=\"\"\n",
    "    tool_calls=[\n",
    "        {\n",
    "            \"name\": \"get_tavily_results\",\n",
    "            \"args\": {\"query\": query},\n",
    "            \"id\": \"tool_call_id\",\n",
    "            \"type\": \"tool_call\",\n",
    "        }\n",
    "    ])\n",
    "\n",
    "response_tool_2 = tool_node2.invoke({\"messages\": [message_with_single_tool_call_tavily]})"
   ]
  },
  {
   "cell_type": "code",
   "execution_count": null,
   "metadata": {},
   "outputs": [],
   "source": [
    "for m in response_tool_2['messages']:\n",
    "    m.pretty_print()"
   ]
  },
  {
   "cell_type": "code",
   "execution_count": null,
   "metadata": {},
   "outputs": [],
   "source": [
    "system_message_summarize = f'''You are expert at a giving a detailed summary of the content given to you.\n",
    "User Query: {query}\n",
    "\n",
    "Wikipedia Result: {response_tool_1['messages']}\n",
    "\n",
    "Tavily Result: {response_tool_2['messages']}\n",
    "\n",
    "Always attibute the responses to sources (Wikipedia and Tavily)\n",
    "'''"
   ]
  },
  {
   "cell_type": "code",
   "execution_count": null,
   "metadata": {},
   "outputs": [],
   "source": [
    "final_summary = llm.invoke(system_message_summarize)"
   ]
  },
  {
   "cell_type": "code",
   "execution_count": null,
   "metadata": {},
   "outputs": [],
   "source": [
    "print(final_summary.content)"
   ]
  },
  {
   "cell_type": "code",
   "execution_count": null,
   "metadata": {},
   "outputs": [],
   "source": [
    "with open(\"results.txt\", \"w\") as file:\n",
    "    file.write(final_summary.content)"
   ]
  }
 ],
 "metadata": {
  "kernelspec": {
   "display_name": "base",
   "language": "python",
   "name": "python3"
  },
  "language_info": {
   "codemirror_mode": {
    "name": "ipython",
    "version": 3
   },
   "file_extension": ".py",
   "mimetype": "text/x-python",
   "name": "python",
   "nbconvert_exporter": "python",
   "pygments_lexer": "ipython3",
   "version": "3.12.7"
  }
 },
 "nbformat": 4,
 "nbformat_minor": 2
}
