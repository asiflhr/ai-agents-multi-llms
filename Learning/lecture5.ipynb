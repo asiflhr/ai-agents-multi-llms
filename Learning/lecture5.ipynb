{
 "cells": [
  {
   "cell_type": "markdown",
   "metadata": {},
   "source": [
    "# Lecture 5\n",
    "\n",
    "## Evaluator - Optimizer Workflow\n",
    "\n",
    "\n",
    "In this workflow, one LLM call generates a response while another provides evaluation and feedback in a loop\n",
    "\n",
    "#### Use-case: Real-time Database updates"
   ]
  },
  {
   "cell_type": "code",
   "execution_count": 1,
   "metadata": {},
   "outputs": [
    {
     "name": "stdout",
     "output_type": "stream",
     "text": [
      "Defaulting to user installation because normal site-packages is not writeable\n",
      "Requirement already satisfied: pymongo[srv] in c:\\users\\asif8\\appdata\\roaming\\python\\python312\\site-packages (4.11.2)\n",
      "Requirement already satisfied: dnspython<3.0.0,>=1.16.0 in c:\\users\\asif8\\appdata\\roaming\\python\\python312\\site-packages (from pymongo[srv]) (2.7.0)\n",
      "Note: you may need to restart the kernel to use updated packages.\n"
     ]
    },
    {
     "name": "stderr",
     "output_type": "stream",
     "text": [
      "WARNING: pymongo 4.11.2 does not provide the extra 'srv'\n"
     ]
    }
   ],
   "source": [
    "%pip install \"pymongo[srv]\""
   ]
  },
  {
   "cell_type": "code",
   "execution_count": 3,
   "metadata": {},
   "outputs": [
    {
     "name": "stdout",
     "output_type": "stream",
     "text": [
      "✅ MongoDB URI Loaded Successfully\n"
     ]
    },
    {
     "name": "stderr",
     "output_type": "stream",
     "text": [
      "C:\\Users\\asif8\\AppData\\Roaming\\Python\\Python312\\site-packages\\pymongo\\pyopenssl_context.py:355: CryptographyDeprecationWarning: Parsed a negative serial number, which is disallowed by RFC 5280. Loading this certificate will cause an exception in the next release of cryptography.\n",
      "  _crypto.X509.from_cryptography(x509.load_der_x509_certificate(cert))\n"
     ]
    },
    {
     "name": "stdout",
     "output_type": "stream",
     "text": [
      "Pinged your deployment. You successfully connected to MongoDB!\n"
     ]
    }
   ],
   "source": [
    "from pymongo.mongo_client import MongoClient\n",
    "from pymongo.server_api import ServerApi\n",
    "import os\n",
    "from dotenv import load_dotenv\n",
    "\n",
    "load_dotenv()  # Load environment variables from .env file\n",
    "\n",
    "# Corrected way to retrieve the API key\n",
    "mongoDB_api_key = os.getenv(\"MONGODB_URI\")\n",
    "\n",
    "if not mongoDB_api_key:\n",
    "    raise ValueError(\"❌ MONGODB_URI is not set. Check your .env file.\")\n",
    "\n",
    "print(\"✅ MongoDB URI Loaded Successfully\")  # Debugging\n",
    "\n",
    "uri = mongoDB_api_key\n",
    "\n",
    "# Create a new client and connect to the server\n",
    "client = MongoClient(uri, server_api=ServerApi('1'))\n",
    "\n",
    "# Send a ping to confirm a successful connection\n",
    "try:\n",
    "    client.admin.command('ping')\n",
    "    print(\"Pinged your deployment. You successfully connected to MongoDB!\")\n",
    "except Exception as e:\n",
    "    print(e)"
   ]
  },
  {
   "cell_type": "code",
   "execution_count": 4,
   "metadata": {},
   "outputs": [],
   "source": [
    "# Corrected way to retrieve the API key\n",
    "api_key = os.getenv(\"GOOGLE_API_KEY\")\n",
    "\n",
    "if not api_key:\n",
    "    raise ValueError(\"GOOGLE_API_KEY not found. Make sure it's set in the .env file.\")\n",
    "\n",
    "os.environ[\"GOOGLE_API_KEY\"] = api_key\n",
    "\n",
    "from langchain_google_genai import ChatGoogleGenerativeAI\n",
    "\n",
    "llm = ChatGoogleGenerativeAI(model=\"gemini-1.5-flash-latest\")"
   ]
  },
  {
   "cell_type": "code",
   "execution_count": 5,
   "metadata": {},
   "outputs": [],
   "source": [
    "list_of_complaints = [\"My phone network is weak\", \"My internet is slow\", \"My bill is too high\", \"I want to change my plan\", \"I want to cancel my internet plan\", \"party tonight\"]"
   ]
  },
  {
   "cell_type": "code",
   "execution_count": 6,
   "metadata": {},
   "outputs": [],
   "source": [
    "category_of_complaints = [\"Network\", \"Internet\", \"Billing\", \"Internet Plan\", \"Cancellation\"]"
   ]
  },
  {
   "cell_type": "code",
   "execution_count": 9,
   "metadata": {},
   "outputs": [
    {
     "name": "stdout",
     "output_type": "stream",
     "text": [
      "My phone network is weak\n",
      "```xml\n",
      "<category>\n",
      "Actual Category: Network\n",
      "</category>\n",
      "```\n",
      "Classified category: Actual Category: Network\n",
      "Evaluation Feedback: True\n",
      "My internet is slow\n",
      "```xml\n",
      "<category>\n",
      "Actual Category: Internet\n",
      "</category>\n",
      "```\n",
      "Classified category: Actual Category: Internet\n",
      "Evaluation Feedback: True\n",
      "My bill is too high\n",
      "```xml\n",
      "<category>\n",
      "Actual Category: Billing\n",
      "</category>\n",
      "```\n",
      "Classified category: Actual Category: Billing\n",
      "Evaluation Feedback: True\n",
      "I want to change my plan\n",
      "```xml\n",
      "<category>\n",
      "Actual Category: Internet Plan\n",
      "</category>\n",
      "```\n",
      "Classified category: Actual Category: Internet Plan\n",
      "Evaluation Feedback: True\n",
      "I want to cancel my internet plan\n",
      "```xml\n",
      "<category>\n",
      "Actual Category: Cancellation\n",
      "</category>\n",
      "```\n",
      "Classified category: Actual Category: Cancellation\n",
      "Evaluation Feedback: True\n",
      "party tonight\n",
      "```xml\n",
      "<category>\n",
      "Actual Category: None\n",
      "</category>\n",
      "```\n",
      "Classified category: Actual Category: None\n",
      "Evaluation Feedback: False\n"
     ]
    }
   ],
   "source": [
    "from datetime import datetime\n",
    "\n",
    "for complain in list_of_complaints:\n",
    "    print(complain)\n",
    "\n",
    "    # First LLM call - classify the complaint into a category\n",
    "    main_prompt = f\"\"\"\n",
    "    You are a customer service representative. You need to classify the complaint into a categories.\n",
    "    \n",
    "    Complaints: {complain}\n",
    "    Categories: {category_of_complaints}\n",
    "\n",
    "    Always return the category in the list of categories.\n",
    "    \n",
    "    Return the output in the following format in XML format(strictly follow the format, nothing else should be there in the output):\n",
    "\n",
    "    <category>\n",
    "    Actual Category: (eg. \"Network\")\n",
    "    </category>\n",
    "    \"\"\"\n",
    "\n",
    "    classification_response = llm.invoke(main_prompt)\n",
    "    print(classification_response.content)\n",
    "\n",
    "    category = classification_response.content.strip(\"```xml\\n\").strip(\"</category>\").strip(\"\\n\")\n",
    "    print(f\"Classified category: {category}\")\n",
    "\n",
    "    # Second LLM call - Evaluation classification - generate a response based on the category\n",
    "    evaluation_prompt = f\"\"\"\n",
    "    Context-\n",
    "    The previous LLM call has classified the complaint into one the categories.\n",
    "\n",
    "    You are a feedback generator. You need to evaluate the response of the LLM and give feedback on the response in 0 or 1.\n",
    "    \n",
    "    Complaint: {complain}\n",
    "    Category: {category}\n",
    "\n",
    "    List of categories to select from: {category_of_complaints}\n",
    "\n",
    "    If no category found in the list of categories, then return 0. Otherwise return 1.\n",
    "    \n",
    "    Return the feedback(True or False)\n",
    "\n",
    "    Only return True or False, no other text or explanation.\n",
    "    \"\"\"\n",
    "\n",
    "    evaluation_response = llm.invoke(evaluation_prompt)\n",
    "    feedback = evaluation_response.content\n",
    "    print(f\"Evaluation Feedback: {feedback}\")\n",
    "\n",
    "    # Store results in appropriate MongoDB collection based on evaluation\n",
    "    db = client[\"customer_service\"]  # Replace with your database name\n",
    "    if feedback == \"True\":\n",
    "        complaints_collection = db[\"complaints\"]\n",
    "    else:\n",
    "        complaints_collection = db[\"complaints_unclassified\"]\n",
    "\n",
    "    # Create a document to store in MongoDB\n",
    "    complaint_doc = {\n",
    "        \"complaint\": complain,\n",
    "        \"category\": category,\n",
    "        \"evaluation_feedback\": feedback,\n",
    "        \"time\": datetime.now()\n",
    "    }\n",
    "\n",
    "    # Insert the complain and category into the appropriate collection\n",
    "    complaints_collection.insert_one(complaint_doc)\n"
   ]
  }
 ],
 "metadata": {
  "kernelspec": {
   "display_name": "base",
   "language": "python",
   "name": "python3"
  },
  "language_info": {
   "codemirror_mode": {
    "name": "ipython",
    "version": 3
   },
   "file_extension": ".py",
   "mimetype": "text/x-python",
   "name": "python",
   "nbconvert_exporter": "python",
   "pygments_lexer": "ipython3",
   "version": "3.12.7"
  }
 },
 "nbformat": 4,
 "nbformat_minor": 2
}
