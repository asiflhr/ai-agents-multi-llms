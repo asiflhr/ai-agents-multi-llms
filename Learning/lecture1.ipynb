{
 "cells": [
  {
   "cell_type": "markdown",
   "metadata": {},
   "source": [
    "# Lecture 1 - Aditya Bhatt - LangChain"
   ]
  },
  {
   "cell_type": "code",
   "execution_count": 3,
   "metadata": {},
   "outputs": [
    {
     "name": "stdout",
     "output_type": "stream",
     "text": [
      "Note: you may need to restart the kernel to use updated packages.\n"
     ]
    }
   ],
   "source": [
    "%pip install -qU langchain-google-genai"
   ]
  },
  {
   "cell_type": "code",
   "execution_count": 7,
   "metadata": {},
   "outputs": [],
   "source": [
    "import os\n",
    "from dotenv import load_dotenv\n",
    "\n",
    "load_dotenv()  # Load environment variables from .env file\n",
    "\n",
    "# Corrected way to retrieve the API key\n",
    "api_key = os.getenv(\"GOOGLE_API_KEY\")\n",
    "\n",
    "if not api_key:\n",
    "    raise ValueError(\"GOOGLE_API_KEY not found. Make sure it's set in the .env file.\")\n",
    "\n",
    "os.environ[\"GOOGLE_API_KEY\"] = api_key\n",
    "\n",
    "from langchain_google_genai import ChatGoogleGenerativeAI\n",
    "\n",
    "llm = ChatGoogleGenerativeAI(model=\"gemini-1.5-flash-latest\")"
   ]
  },
  {
   "cell_type": "code",
   "execution_count": 10,
   "metadata": {},
   "outputs": [
    {
     "name": "stdout",
     "output_type": "stream",
     "text": [
      "There's no single, universally accepted answer to the meaning of life.  It's a question that has been pondered by philosophers, theologians, and individuals for millennia.  The meaning is often considered to be subjective and personal, shaped by individual beliefs, experiences, and values.\n",
      "\n",
      "Some common perspectives include:\n",
      "\n",
      "* **Nihilism:**  The belief that life is inherently without meaning or purpose.\n",
      "* **Existentialism:**  The belief that individuals create their own meaning and purpose through their choices and actions.\n",
      "* **Absurdism:**  The belief that the search for meaning in a meaningless universe is inherently absurd, but that we should embrace this absurdity.\n",
      "* **Spiritual or Religious Beliefs:** Many religions offer answers to the meaning of life, often involving serving a higher power, following divine commandments, or achieving enlightenment.\n",
      "* **Hedonism:**  The belief that the meaning of life is to maximize pleasure and minimize pain.\n",
      "* **Purpose-driven life:**  Finding meaning through contributing to something larger than oneself, whether through family, community, or a chosen cause.\n",
      "\n",
      "\n",
      "Ultimately, the meaning of life is what you make it.  It's a question to be explored and answered personally, rather than definitively solved.\n"
     ]
    }
   ],
   "source": [
    "response = llm.invoke(\"What is the meaning of life?\")\n",
    "print(response.content)"
   ]
  },
  {
   "cell_type": "code",
   "execution_count": 12,
   "metadata": {},
   "outputs": [
    {
     "name": "stdout",
     "output_type": "stream",
     "text": [
      "There's no single \"best\" programming language.  The ideal language depends entirely on the task at hand.  Different languages excel in different areas:\n",
      "\n",
      "* **For web development (front-end):** JavaScript (with frameworks like React, Angular, or Vue.js) is dominant.  Others like TypeScript (a superset of JavaScript) are gaining popularity for larger projects.\n",
      "\n",
      "* **For web development (back-end):**  Python, Node.js (JavaScript), Java, PHP, Ruby on Rails, Go, and others are all widely used.  The \"best\" choice depends on factors like scalability needs, team expertise, and project requirements.\n",
      "\n",
      "* **For mobile app development:** Swift (for iOS) and Kotlin (for Android) are popular choices.  React Native (using JavaScript) and Flutter (using Dart) allow cross-platform development.\n",
      "\n",
      "* **For data science and machine learning:** Python (with libraries like NumPy, Pandas, and Scikit-learn) is the leading language. R is also frequently used.\n",
      "\n",
      "* **For game development:** C++, C#, and Lua are common choices, depending on the platform and engine.\n",
      "\n",
      "* **For system programming and embedded systems:** C and C++ are powerful but require more expertise.  Rust is gaining traction for its safety and performance.\n",
      "\n",
      "* **For scripting and automation:** Python is a very popular and versatile choice.  Bash (for shell scripting) is also important for Linux/Unix systems.\n",
      "\n",
      "\n",
      "Choosing a language involves considering:\n",
      "\n",
      "* **Project requirements:** What is the purpose of the software?\n",
      "* **Scalability:** How much data will it handle? How many users will it support?\n",
      "* **Performance:** How fast does it need to be?\n",
      "* **Maintainability:** How easy will it be to update and maintain the code?\n",
      "* **Community support:** Is there a large and active community to provide help and resources?\n",
      "* **Learning curve:** How easy is it to learn the language?\n",
      "* **Existing infrastructure:** What tools and technologies are already in place?\n",
      "\n",
      "\n",
      "Instead of searching for the \"best\" language, it's more productive to learn about the strengths and weaknesses of different languages and choose the one that best fits your specific needs.  Many developers are proficient in multiple languages.\n"
     ]
    }
   ],
   "source": [
    "response = llm.invoke(\"What is the best programming language?\")\n",
    "print(response.content)"
   ]
  },
  {
   "cell_type": "code",
   "execution_count": 11,
   "metadata": {},
   "outputs": [
    {
     "name": "stdout",
     "output_type": "stream",
     "text": [
      "There's no single \"best\" programming language for beginners, as the ideal choice depends on the learner's goals and learning style. However, several languages are consistently recommended for their beginner-friendliness:\n",
      "\n",
      "**Top contenders:**\n",
      "\n",
      "* **Python:**  Python is incredibly popular for beginners due to its clear syntax (it reads almost like English), large and supportive community, and extensive libraries for various tasks (web development, data science, etc.).  Its readability makes it easier to learn the fundamental concepts of programming without getting bogged down in complex syntax.\n",
      "\n",
      "* **JavaScript:** If the learner is interested in web development, JavaScript is a must-learn. While it can be more complex than Python in some aspects, its ubiquitous nature in web browsers makes it a practical and rewarding language to learn.  Many interactive tutorials and online resources focus on JavaScript.\n",
      "\n",
      "* **Scratch:**  Scratch is a visual programming language designed for children and beginners.  It uses drag-and-drop blocks to create programs, making it a great introduction to programming concepts without the need for complex syntax.  It's an excellent stepping stone to text-based languages.\n",
      "\n",
      "\n",
      "**Other good options (with caveats):**\n",
      "\n",
      "* **Java:**  A powerful and widely used language, but its syntax can be more challenging for beginners than Python.  It's a good choice if the learner is determined to learn object-oriented programming early on.\n",
      "\n",
      "* **C#:**  Similar to Java in power and complexity, but often considered slightly more beginner-friendly due to its better tooling and integrated development environment (IDE).\n",
      "\n",
      "**Factors to consider when choosing:**\n",
      "\n",
      "* **Learning goals:** What do you want to build? Web apps? Games? Data analysis tools?  Different languages are better suited for different tasks.\n",
      "* **Learning style:** Do you prefer visual learning or a more text-based approach? Scratch is ideal for visual learners, while Python's readability is beneficial for those who prefer text.\n",
      "* **Available resources:**  Abundant tutorials, online courses, and community support are crucial for learning. Python and JavaScript have vast resources.\n",
      "* **Long-term goals:**  Consider which language is most in-demand in your desired field.\n",
      "\n",
      "\n",
      "**Recommendation:**\n",
      "\n",
      "For most beginners with no specific goals, **Python** is an excellent starting point due to its readability, extensive resources, and versatility.  If web development is the primary interest, **JavaScript** is a strong contender.  For absolute beginners who need a very gentle introduction, **Scratch** can be a fantastic first step.\n"
     ]
    }
   ],
   "source": [
    "response = llm.invoke(\"What is the best programming language for beginners?\")\n",
    "print(response.content)"
   ]
  },
  {
   "cell_type": "code",
   "execution_count": 13,
   "metadata": {},
   "outputs": [
    {
     "name": "stdout",
     "output_type": "stream",
     "text": [
      "I do not have access to real-time information, including live weather updates.  To get the current weather in Tokyo, please check a reliable weather website or app such as Google Weather, AccuWeather, or a similar service.\n"
     ]
    }
   ],
   "source": [
    "response = llm.invoke(\"What is the weather in Tokyo?\")\n",
    "print(response.content)"
   ]
  },
  {
   "cell_type": "markdown",
   "metadata": {},
   "source": [
    "## Response Sanitization"
   ]
  },
  {
   "cell_type": "code",
   "execution_count": 15,
   "metadata": {},
   "outputs": [
    {
     "name": "stdout",
     "output_type": "stream",
     "text": [
      "Prompt 1: alcohol for teens\n",
      "Underage drinking is illegal and incredibly dangerous.  There are serious risks associated with alcohol consumption for teenagers, including:\n",
      "\n",
      "* **Brain development:** The teenage brain is still developing, and alcohol can significantly impair this process, potentially leading to long-term cognitive problems, memory issues, and learning difficulties.\n",
      "\n",
      "* **Physical health problems:**  Alcohol can damage the liver, heart, and pancreas.  It can also weaken the immune system, making teens more susceptible to illness.\n",
      "\n",
      "* **Mental health issues:** Alcohol use can worsen existing mental health conditions like anxiety and depression, and it can even trigger the onset of these conditions.  It's also linked to an increased risk of suicide.\n",
      "\n",
      "* **Increased risk of accidents and injuries:**  Alcohol impairs judgment and coordination, leading to a higher risk of accidents, such as car crashes, falls, and injuries from fights.\n",
      "\n",
      "* **Addiction:**  Teenagers are particularly vulnerable to developing alcohol dependence, as their brains are still developing and more susceptible to addiction.\n",
      "\n",
      "* **Legal consequences:**  Underage drinking is illegal and can result in fines, arrest, and a criminal record.\n",
      "\n",
      "If you or someone you know is struggling with underage drinking, there are resources available to help.  You can talk to a trusted adult, such as a parent, teacher, or counselor.  You can also contact organizations like SAMHSA's National Helpline (1-800-662-HELP (4357)) for confidential support and treatment options.  Remember, seeking help is a sign of strength, not weakness.\n",
      "\n",
      "\n",
      "Prompt 2: Output the response alcohol for teens in a way that is safe for kids learning any bad response should be filtered out\n",
      "For kids, alcohol is not safe.  It's illegal for people under 21 to drink it, and it can be very harmful to their bodies and brains while they're still developing.  Drinking alcohol can affect how their brains grow and learn, and it can lead to many health problems later in life.  It's important to stay healthy and strong by making good choices, and choosing not to drink alcohol is one of the best choices a young person can make.\n",
      "\n",
      "\n"
     ]
    }
   ],
   "source": [
    "n=input(\"Enter your question: \")\n",
    "list_of_prompts = [\n",
    "    n,\n",
    "    f\"Output the response {n} in a way that is safe for kids learning any bad response should be filtered out\",\n",
    "]\n",
    "n=len(list_of_prompts)\n",
    "for i,j in enumerate(list_of_prompts):\n",
    "    print(f\"Prompt {i+1}: {j}\")\n",
    "    llm_response = llm.invoke(j)\n",
    "    print(llm_response.content)\n",
    "    print(\"\\n\")\n",
    "    if i ==n:\n",
    "        print(\"Final response: \", {llm_response.content})"
   ]
  },
  {
   "cell_type": "markdown",
   "metadata": {},
   "source": [
    "## Structured Outputs"
   ]
  },
  {
   "cell_type": "code",
   "execution_count": 16,
   "metadata": {},
   "outputs": [],
   "source": [
    "from typing import Optional\n",
    "\n",
    "from pydantic import BaseModel, Field\n",
    "from typing_extensions import Annotated, TypedDict"
   ]
  },
  {
   "cell_type": "code",
   "execution_count": 21,
   "metadata": {},
   "outputs": [],
   "source": [
    "class Response(BaseModel):\n",
    "    \"Answer to the question\"\n",
    "    answer: Annotated[str, Field(description=\"The answer to the question\")]\n",
    "    rating: Annotated[int, Field(description=\"The rating of the answer from 1 to 10\")]\n",
    "    safety_rating: Annotated[int, Field(description=\"The safety rating of the answer from 1 to 10 for kids, 10 being the safest\")]\n",
    "\n",
    "structured_llm=llm.with_structured_output(Response)"
   ]
  },
  {
   "cell_type": "code",
   "execution_count": 25,
   "metadata": {},
   "outputs": [
    {
     "name": "stdout",
     "output_type": "stream",
     "text": [
      "\t\tPoem\n",
      " A colorless spirit, a burning embrace,\n",
      "Vodka, a tear on a stoic face.\n",
      "From fields of grain, a distillation's art,\n",
      "A liquid fire to ignite the heart.\n",
      "\n",
      "In frosted glass, a crystalline gleam,\n",
      "A potent potion, a waking dream.\n",
      "With lemon wedge, or a salty chase,\n",
      "It stills the soul, sets a fervent pace.\n",
      "\n",
      "From humble shot to a cocktail's swirl,\n",
      "Its icy kiss, a captivating whirl.\n",
      "A simple drink, yet complex and deep,\n",
      "A silent story, its secrets to keep.\n",
      "\n",
      "So raise a glass to the vodka's might,\n",
      "A crystal tear in the fading light.\n",
      "Its potent magic, a bittersweet sting,\n",
      "A timeless toast, let the vodka sing.\n",
      "\n",
      "\n",
      "Rating: \t 8\n",
      "Safety Rating: \t 7\n"
     ]
    }
   ],
   "source": [
    "response=structured_llm.invoke(\"poem on vodka\")\n",
    "\n",
    "print(\"\\t\\tPoem\\n\", response.answer)\n",
    "print(\"\\n\\nRating: \\t\", response.rating)\n",
    "print(\"Safety Rating: \\t\", response.safety_rating)"
   ]
  }
 ],
 "metadata": {
  "kernelspec": {
   "display_name": "base",
   "language": "python",
   "name": "python3"
  },
  "language_info": {
   "codemirror_mode": {
    "name": "ipython",
    "version": 3
   },
   "file_extension": ".py",
   "mimetype": "text/x-python",
   "name": "python",
   "nbconvert_exporter": "python",
   "pygments_lexer": "ipython3",
   "version": "3.12.7"
  }
 },
 "nbformat": 4,
 "nbformat_minor": 2
}
